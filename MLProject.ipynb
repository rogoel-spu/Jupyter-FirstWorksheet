{
 "cells": [
  {
   "cell_type": "markdown",
   "metadata": {},
   "source": [
    "<A HREF=\"https://www.drivendata.org/competitions/54/machine-learning-with-a-heart/\"><button>View Challenge on Driven Data</button></a>"
   ]
  },
  {
   "cell_type": "markdown",
   "metadata": {},
   "source": [
    "## Contents <a id='C'></a>\n",
    "\n",
    "<a href='#S1'><b>Step 1 - Preparing Libraries & Dataset</b></a>\n",
    "<p style=\"margin-left: 20px\">\n",
    "    <a href='#IL'>Importing Libraries</a></br>\n",
    "    <a href='#ID'>Importing Dataset</a></br>\n",
    "</p>\n",
    "\n",
    "<a href='#S2'><b>Step 2 - Data Exploration</b></a>\n",
    "<p style=\"margin-left: 20px\">\n",
    "    <a href='#AD'>Analyzing Data</a></br>\n",
    "    <a href='#VD'>Visualizing Data</a></br>\n",
    "</p>\n",
    "\n",
    "<a href='#S3'><b>Step 3 - Data Preparation</b></a>\n",
    "<p style=\"margin-left: 20px\">\n",
    "    <a href='#FS'>Feature Selection</a></br>\n",
    "    <a href='#FE'>Feature Engineer</a></br>\n",
    "</p>\n",
    "\n",
    "<a href='#S4'><b>Step 4 - Classification Models / ML Algorithms</b></a>\n",
    "<p style=\"margin-left: 20px\">\n",
    "    <a href='#KNN'>K-Nearest Neigbors (KNN)</a></br>\n",
    "    <a href='#LR'>Logistic Regression</a></br>\n",
    "    <a href='#GB'>Gradient Boosting</a></br>\n",
    "    <a href='#SVM'>Support Vector Machine (SVM)</a></br>\n",
    "    <a href='#DT'>Decision Tree</a></br>\n",
    "    <a href='#RF'>Random Forest</a></br>\n",
    "    <a href='#NB'>Naive Bayes</a></br>\n",
    "</p>\n",
    "\n",
    "<a href='#S5'><b>Step 5 - Evaluation</b></a>"
   ]
  },
  {
   "cell_type": "markdown",
   "metadata": {},
   "source": [
    "## Step 1 - Preparing Libraries & Dataset <a id='S1'></a></br><a href='#C'><font size=2><i>(Back to Contents) ↑</i></font></a>\n",
    "### <u>Importing Libraries</u> <a id='IL'></a>\n",
    "#### Import helpful libraries & give quick names to those libraries"
   ]
  },
  {
   "cell_type": "code",
   "execution_count": 11,
   "metadata": {},
   "outputs": [],
   "source": [
    "# Linear algebra\n",
    "import pandas as pd \n",
    "## Data processing\n",
    "import numpy as np \n",
    "\n",
    "# Visualization tools\n",
    "import matplotlib.pyplot as plt \n",
    "import seaborn as sns\n",
    "%matplotlib inline\n",
    "## Animation library\n",
    "import matplotlib.animation as animation\n",
    "\n",
    "# Data splitting & parameter tuning\n",
    "from sklearn.model_selection import train_test_split\n",
    "from sklearn.model_selection import cross_val_predict\n",
    "from sklearn.model_selection import cross_val_score\n",
    "from sklearn.model_selection import GridSearchCV\n",
    "\n",
    "# ML models\n",
    "from sklearn.ensemble import RandomForestClassifier\n",
    "from sklearn.linear_model import LogisticRegression\n",
    "from sklearn.svm import SVC\n",
    "from sklearn.naive_bayes import GaussianNB\n",
    "from sklearn.neighbors import KNeighborsClassifier\n",
    "from sklearn import tree \n",
    "from sklearn.tree import DecisionTreeClassifier\n",
    "from sklearn.tree import export_graphviz\n",
    "from sklearn.ensemble import GradientBoostingClassifier\n",
    "\n",
    "# Feature selection\n",
    "from sklearn.feature_selection import SelectPercentile, chi2\n",
    "from sklearn.feature_selection import SelectKBest\n",
    "from sklearn.feature_selection import chi2\n",
    "from sklearn.ensemble import ExtraTreesClassifier\n",
    "\n",
    "# Evaluation metrics\n",
    "from sklearn import metrics\n",
    "from sklearn.metrics import confusion_matrix\n",
    "from sklearn.metrics import classification_report\n",
    "from sklearn.metrics import roc_curve, auc, roc_auc_score\n",
    "from sklearn.metrics import accuracy_score\n",
    "\n",
    "# Further processing\n",
    "from sklearn.preprocessing import StandardScaler"
   ]
  },
  {
   "cell_type": "markdown",
   "metadata": {},
   "source": [
    "### <u>Importing Dataset</u> <a id='ID'></a>\n",
    "#### The raw data from drivendata.org is in .dat file format. Rather than converting it to csv using Excel, I have decided to prep the .dat data file entirely using python.\n",
    "To do so, I imported the file using Panda's read_csv function and separated each column with a space delimiter. Since the original .dat file does not contain any column headings, I assigned them manually and have included markups of what they are, how they are interpreted, as well as possible values to expect."
   ]
  },
  {
   "cell_type": "code",
   "execution_count": 12,
   "metadata": {},
   "outputs": [
    {
     "data": {
      "text/html": [
       "<div>\n",
       "<style scoped>\n",
       "    .dataframe tbody tr th:only-of-type {\n",
       "        vertical-align: middle;\n",
       "    }\n",
       "\n",
       "    .dataframe tbody tr th {\n",
       "        vertical-align: top;\n",
       "    }\n",
       "\n",
       "    .dataframe thead th {\n",
       "        text-align: right;\n",
       "    }\n",
       "</style>\n",
       "<table border=\"1\" class=\"dataframe\">\n",
       "  <thead>\n",
       "    <tr style=\"text-align: right;\">\n",
       "      <th></th>\n",
       "      <th>age</th>\n",
       "      <th>sex</th>\n",
       "      <th>chest_pain_type</th>\n",
       "      <th>blood_pressure</th>\n",
       "      <th>chol</th>\n",
       "      <th>blood_sugar</th>\n",
       "      <th>rest_ecg</th>\n",
       "      <th>max_heart_rate</th>\n",
       "      <th>exercise_induced_angina</th>\n",
       "      <th>st_depression</th>\n",
       "      <th>st_slope</th>\n",
       "      <th>num_major_vessels</th>\n",
       "      <th>thalassemia</th>\n",
       "      <th>target</th>\n",
       "    </tr>\n",
       "  </thead>\n",
       "  <tbody>\n",
       "    <tr>\n",
       "      <th>0</th>\n",
       "      <td>70.0</td>\n",
       "      <td>1.0</td>\n",
       "      <td>4.0</td>\n",
       "      <td>130.0</td>\n",
       "      <td>322.0</td>\n",
       "      <td>0.0</td>\n",
       "      <td>2.0</td>\n",
       "      <td>109.0</td>\n",
       "      <td>0.0</td>\n",
       "      <td>2.4</td>\n",
       "      <td>2.0</td>\n",
       "      <td>3.0</td>\n",
       "      <td>3.0</td>\n",
       "      <td>2</td>\n",
       "    </tr>\n",
       "    <tr>\n",
       "      <th>1</th>\n",
       "      <td>67.0</td>\n",
       "      <td>0.0</td>\n",
       "      <td>3.0</td>\n",
       "      <td>115.0</td>\n",
       "      <td>564.0</td>\n",
       "      <td>0.0</td>\n",
       "      <td>2.0</td>\n",
       "      <td>160.0</td>\n",
       "      <td>0.0</td>\n",
       "      <td>1.6</td>\n",
       "      <td>2.0</td>\n",
       "      <td>0.0</td>\n",
       "      <td>7.0</td>\n",
       "      <td>1</td>\n",
       "    </tr>\n",
       "  </tbody>\n",
       "</table>\n",
       "</div>"
      ],
      "text/plain": [
       "    age  sex  chest_pain_type  blood_pressure   chol  blood_sugar  rest_ecg  \\\n",
       "0  70.0  1.0              4.0           130.0  322.0          0.0       2.0   \n",
       "1  67.0  0.0              3.0           115.0  564.0          0.0       2.0   \n",
       "\n",
       "   max_heart_rate  exercise_induced_angina  st_depression  st_slope  \\\n",
       "0           109.0                      0.0            2.4       2.0   \n",
       "1           160.0                      0.0            1.6       2.0   \n",
       "\n",
       "   num_major_vessels  thalassemia  target  \n",
       "0                3.0          3.0       2  \n",
       "1                0.0          7.0       1  "
      ]
     },
     "execution_count": 12,
     "metadata": {},
     "output_type": "execute_result"
    }
   ],
   "source": [
    "# Import the dataset and add headings to each column\n",
    "data = pd.read_csv('heart.dat', sep=' ', names = [\n",
    "        'age', ## age in years\n",
    "        'sex', ## 1 = male; 0 = female\n",
    "        'chest_pain_type', ## Chest pain type\n",
    "        'blood_pressure', ## resting blood pressure in mm Hg on admission to the hospital\n",
    "        'chol', ## serum cholestoral in mg/dl\n",
    "        'blood_sugar', ## fasting blood sugar > 120 mg/dl (1 = true; 0 = false)\n",
    "        'rest_ecg', ## resting electrocardiographic results\n",
    "        'max_heart_rate', ## maximum heart rate achieved\n",
    "        'exercise_induced_angina', ## 1 = yes; 0 = no\n",
    "        'st_depression', ## ST depression induced by exercise relative to rest\n",
    "        'st_slope', ## slope of the peak exercise ST segment\n",
    "        'num_major_vessels', ## number of major vessels (0-3) colored by flourosopy\n",
    "        'thalassemia', ## 3 = normal; 6 = fixed defect; 7 = reversable defect\n",
    "        'target']) ## target which is our label (1 = heart disease absent or 2 = present)\n",
    "\n",
    "# Show the first 2 lines to verify that the dataset was imported correctly \n",
    "data.head(2)"
   ]
  },
  {
   "cell_type": "code",
   "execution_count": 13,
   "metadata": {},
   "outputs": [
    {
     "data": {
      "text/html": [
       "<div>\n",
       "<style scoped>\n",
       "    .dataframe tbody tr th:only-of-type {\n",
       "        vertical-align: middle;\n",
       "    }\n",
       "\n",
       "    .dataframe tbody tr th {\n",
       "        vertical-align: top;\n",
       "    }\n",
       "\n",
       "    .dataframe thead th {\n",
       "        text-align: right;\n",
       "    }\n",
       "</style>\n",
       "<table border=\"1\" class=\"dataframe\">\n",
       "  <thead>\n",
       "    <tr style=\"text-align: right;\">\n",
       "      <th></th>\n",
       "      <th>age</th>\n",
       "      <th>sex</th>\n",
       "      <th>chest_pain_type</th>\n",
       "      <th>blood_pressure</th>\n",
       "      <th>chol</th>\n",
       "      <th>blood_sugar</th>\n",
       "      <th>rest_ecg</th>\n",
       "      <th>max_heart_rate</th>\n",
       "      <th>exercise_induced_angina</th>\n",
       "      <th>st_depression</th>\n",
       "      <th>st_slope</th>\n",
       "      <th>num_major_vessels</th>\n",
       "      <th>thalassemia</th>\n",
       "      <th>target</th>\n",
       "    </tr>\n",
       "  </thead>\n",
       "  <tbody>\n",
       "    <tr>\n",
       "      <th>268</th>\n",
       "      <td>57.0</td>\n",
       "      <td>1.0</td>\n",
       "      <td>4.0</td>\n",
       "      <td>140.0</td>\n",
       "      <td>192.0</td>\n",
       "      <td>0.0</td>\n",
       "      <td>0.0</td>\n",
       "      <td>148.0</td>\n",
       "      <td>0.0</td>\n",
       "      <td>0.4</td>\n",
       "      <td>2.0</td>\n",
       "      <td>0.0</td>\n",
       "      <td>6.0</td>\n",
       "      <td>1</td>\n",
       "    </tr>\n",
       "    <tr>\n",
       "      <th>269</th>\n",
       "      <td>67.0</td>\n",
       "      <td>1.0</td>\n",
       "      <td>4.0</td>\n",
       "      <td>160.0</td>\n",
       "      <td>286.0</td>\n",
       "      <td>0.0</td>\n",
       "      <td>2.0</td>\n",
       "      <td>108.0</td>\n",
       "      <td>1.0</td>\n",
       "      <td>1.5</td>\n",
       "      <td>2.0</td>\n",
       "      <td>3.0</td>\n",
       "      <td>3.0</td>\n",
       "      <td>2</td>\n",
       "    </tr>\n",
       "  </tbody>\n",
       "</table>\n",
       "</div>"
      ],
      "text/plain": [
       "      age  sex  chest_pain_type  blood_pressure   chol  blood_sugar  rest_ecg  \\\n",
       "268  57.0  1.0              4.0           140.0  192.0          0.0       0.0   \n",
       "269  67.0  1.0              4.0           160.0  286.0          0.0       2.0   \n",
       "\n",
       "     max_heart_rate  exercise_induced_angina  st_depression  st_slope  \\\n",
       "268           148.0                      0.0            0.4       2.0   \n",
       "269           108.0                      1.0            1.5       2.0   \n",
       "\n",
       "     num_major_vessels  thalassemia  target  \n",
       "268                0.0          6.0       1  \n",
       "269                3.0          3.0       2  "
      ]
     },
     "execution_count": 13,
     "metadata": {},
     "output_type": "execute_result"
    }
   ],
   "source": [
    "# Show the last 2 lines just to be sure!\n",
    "data.tail(2)"
   ]
  },
  {
   "cell_type": "markdown",
   "metadata": {},
   "source": [
    "## Step 2 - Data Exploration <a id='S2'></a></br><a href='#C'><font size=2><i>(Back to Contents) ↑</i></font></a>\n",
    "### <u>Analyzing the Data</u> <a id='AD'></a>"
   ]
  },
  {
   "cell_type": "code",
   "execution_count": 14,
   "metadata": {},
   "outputs": [
    {
     "data": {
      "text/html": [
       "<div>\n",
       "<style scoped>\n",
       "    .dataframe tbody tr th:only-of-type {\n",
       "        vertical-align: middle;\n",
       "    }\n",
       "\n",
       "    .dataframe tbody tr th {\n",
       "        vertical-align: top;\n",
       "    }\n",
       "\n",
       "    .dataframe thead th {\n",
       "        text-align: right;\n",
       "    }\n",
       "</style>\n",
       "<table border=\"1\" class=\"dataframe\">\n",
       "  <thead>\n",
       "    <tr style=\"text-align: right;\">\n",
       "      <th></th>\n",
       "      <th>age</th>\n",
       "      <th>sex</th>\n",
       "      <th>chest_pain_type</th>\n",
       "      <th>blood_pressure</th>\n",
       "      <th>chol</th>\n",
       "      <th>blood_sugar</th>\n",
       "      <th>rest_ecg</th>\n",
       "      <th>max_heart_rate</th>\n",
       "      <th>exercise_induced_angina</th>\n",
       "      <th>st_depression</th>\n",
       "      <th>st_slope</th>\n",
       "      <th>num_major_vessels</th>\n",
       "      <th>thalassemia</th>\n",
       "      <th>target</th>\n",
       "    </tr>\n",
       "  </thead>\n",
       "  <tbody>\n",
       "    <tr>\n",
       "      <th>count</th>\n",
       "      <td>270.000000</td>\n",
       "      <td>270.000000</td>\n",
       "      <td>270.000000</td>\n",
       "      <td>270.000000</td>\n",
       "      <td>270.000000</td>\n",
       "      <td>270.000000</td>\n",
       "      <td>270.000000</td>\n",
       "      <td>270.000000</td>\n",
       "      <td>270.000000</td>\n",
       "      <td>270.00000</td>\n",
       "      <td>270.000000</td>\n",
       "      <td>270.000000</td>\n",
       "      <td>270.000000</td>\n",
       "      <td>270.000000</td>\n",
       "    </tr>\n",
       "    <tr>\n",
       "      <th>mean</th>\n",
       "      <td>54.433333</td>\n",
       "      <td>0.677778</td>\n",
       "      <td>3.174074</td>\n",
       "      <td>131.344444</td>\n",
       "      <td>249.659259</td>\n",
       "      <td>0.148148</td>\n",
       "      <td>1.022222</td>\n",
       "      <td>149.677778</td>\n",
       "      <td>0.329630</td>\n",
       "      <td>1.05000</td>\n",
       "      <td>1.585185</td>\n",
       "      <td>0.670370</td>\n",
       "      <td>4.696296</td>\n",
       "      <td>1.444444</td>\n",
       "    </tr>\n",
       "    <tr>\n",
       "      <th>std</th>\n",
       "      <td>9.109067</td>\n",
       "      <td>0.468195</td>\n",
       "      <td>0.950090</td>\n",
       "      <td>17.861608</td>\n",
       "      <td>51.686237</td>\n",
       "      <td>0.355906</td>\n",
       "      <td>0.997891</td>\n",
       "      <td>23.165717</td>\n",
       "      <td>0.470952</td>\n",
       "      <td>1.14521</td>\n",
       "      <td>0.614390</td>\n",
       "      <td>0.943896</td>\n",
       "      <td>1.940659</td>\n",
       "      <td>0.497827</td>\n",
       "    </tr>\n",
       "    <tr>\n",
       "      <th>min</th>\n",
       "      <td>29.000000</td>\n",
       "      <td>0.000000</td>\n",
       "      <td>1.000000</td>\n",
       "      <td>94.000000</td>\n",
       "      <td>126.000000</td>\n",
       "      <td>0.000000</td>\n",
       "      <td>0.000000</td>\n",
       "      <td>71.000000</td>\n",
       "      <td>0.000000</td>\n",
       "      <td>0.00000</td>\n",
       "      <td>1.000000</td>\n",
       "      <td>0.000000</td>\n",
       "      <td>3.000000</td>\n",
       "      <td>1.000000</td>\n",
       "    </tr>\n",
       "    <tr>\n",
       "      <th>25%</th>\n",
       "      <td>48.000000</td>\n",
       "      <td>0.000000</td>\n",
       "      <td>3.000000</td>\n",
       "      <td>120.000000</td>\n",
       "      <td>213.000000</td>\n",
       "      <td>0.000000</td>\n",
       "      <td>0.000000</td>\n",
       "      <td>133.000000</td>\n",
       "      <td>0.000000</td>\n",
       "      <td>0.00000</td>\n",
       "      <td>1.000000</td>\n",
       "      <td>0.000000</td>\n",
       "      <td>3.000000</td>\n",
       "      <td>1.000000</td>\n",
       "    </tr>\n",
       "    <tr>\n",
       "      <th>50%</th>\n",
       "      <td>55.000000</td>\n",
       "      <td>1.000000</td>\n",
       "      <td>3.000000</td>\n",
       "      <td>130.000000</td>\n",
       "      <td>245.000000</td>\n",
       "      <td>0.000000</td>\n",
       "      <td>2.000000</td>\n",
       "      <td>153.500000</td>\n",
       "      <td>0.000000</td>\n",
       "      <td>0.80000</td>\n",
       "      <td>2.000000</td>\n",
       "      <td>0.000000</td>\n",
       "      <td>3.000000</td>\n",
       "      <td>1.000000</td>\n",
       "    </tr>\n",
       "    <tr>\n",
       "      <th>75%</th>\n",
       "      <td>61.000000</td>\n",
       "      <td>1.000000</td>\n",
       "      <td>4.000000</td>\n",
       "      <td>140.000000</td>\n",
       "      <td>280.000000</td>\n",
       "      <td>0.000000</td>\n",
       "      <td>2.000000</td>\n",
       "      <td>166.000000</td>\n",
       "      <td>1.000000</td>\n",
       "      <td>1.60000</td>\n",
       "      <td>2.000000</td>\n",
       "      <td>1.000000</td>\n",
       "      <td>7.000000</td>\n",
       "      <td>2.000000</td>\n",
       "    </tr>\n",
       "    <tr>\n",
       "      <th>max</th>\n",
       "      <td>77.000000</td>\n",
       "      <td>1.000000</td>\n",
       "      <td>4.000000</td>\n",
       "      <td>200.000000</td>\n",
       "      <td>564.000000</td>\n",
       "      <td>1.000000</td>\n",
       "      <td>2.000000</td>\n",
       "      <td>202.000000</td>\n",
       "      <td>1.000000</td>\n",
       "      <td>6.20000</td>\n",
       "      <td>3.000000</td>\n",
       "      <td>3.000000</td>\n",
       "      <td>7.000000</td>\n",
       "      <td>2.000000</td>\n",
       "    </tr>\n",
       "  </tbody>\n",
       "</table>\n",
       "</div>"
      ],
      "text/plain": [
       "              age         sex  chest_pain_type  blood_pressure        chol  \\\n",
       "count  270.000000  270.000000       270.000000      270.000000  270.000000   \n",
       "mean    54.433333    0.677778         3.174074      131.344444  249.659259   \n",
       "std      9.109067    0.468195         0.950090       17.861608   51.686237   \n",
       "min     29.000000    0.000000         1.000000       94.000000  126.000000   \n",
       "25%     48.000000    0.000000         3.000000      120.000000  213.000000   \n",
       "50%     55.000000    1.000000         3.000000      130.000000  245.000000   \n",
       "75%     61.000000    1.000000         4.000000      140.000000  280.000000   \n",
       "max     77.000000    1.000000         4.000000      200.000000  564.000000   \n",
       "\n",
       "       blood_sugar    rest_ecg  max_heart_rate  exercise_induced_angina  \\\n",
       "count   270.000000  270.000000      270.000000               270.000000   \n",
       "mean      0.148148    1.022222      149.677778                 0.329630   \n",
       "std       0.355906    0.997891       23.165717                 0.470952   \n",
       "min       0.000000    0.000000       71.000000                 0.000000   \n",
       "25%       0.000000    0.000000      133.000000                 0.000000   \n",
       "50%       0.000000    2.000000      153.500000                 0.000000   \n",
       "75%       0.000000    2.000000      166.000000                 1.000000   \n",
       "max       1.000000    2.000000      202.000000                 1.000000   \n",
       "\n",
       "       st_depression    st_slope  num_major_vessels  thalassemia      target  \n",
       "count      270.00000  270.000000         270.000000   270.000000  270.000000  \n",
       "mean         1.05000    1.585185           0.670370     4.696296    1.444444  \n",
       "std          1.14521    0.614390           0.943896     1.940659    0.497827  \n",
       "min          0.00000    1.000000           0.000000     3.000000    1.000000  \n",
       "25%          0.00000    1.000000           0.000000     3.000000    1.000000  \n",
       "50%          0.80000    2.000000           0.000000     3.000000    1.000000  \n",
       "75%          1.60000    2.000000           1.000000     7.000000    2.000000  \n",
       "max          6.20000    3.000000           3.000000     7.000000    2.000000  "
      ]
     },
     "execution_count": 14,
     "metadata": {},
     "output_type": "execute_result"
    }
   ],
   "source": [
    "# Summary Statistics of the dataset\n",
    "\n",
    "## Count - the number of non-empty rows in a column.\n",
    "## Mean - the mean value of that column.\n",
    "## Std - the Standard Deviation Value of that column.\n",
    "## Min - the minimum value.\n",
    "## 25%, 50%, and 75% - the percentile/quartile for each column.\n",
    "## Max - the maximum value.\n",
    "data.describe()"
   ]
  },
  {
   "cell_type": "code",
   "execution_count": 15,
   "metadata": {},
   "outputs": [
    {
     "name": "stdout",
     "output_type": "stream",
     "text": [
      "Number of rows in the dataset:  270\n",
      "Number of columns in the dataset:  14\n"
     ]
    }
   ],
   "source": [
    "# Determining number of rows and columns in the dataset\n",
    "print('Number of rows in the dataset: ',data.shape[0])\n",
    "print('Number of columns in the dataset: ',data.shape[1])"
   ]
  },
  {
   "cell_type": "code",
   "execution_count": 16,
   "metadata": {},
   "outputs": [
    {
     "name": "stdout",
     "output_type": "stream",
     "text": [
      "<class 'pandas.core.frame.DataFrame'>\n",
      "RangeIndex: 270 entries, 0 to 269\n",
      "Data columns (total 14 columns):\n",
      "age                        270 non-null float64\n",
      "sex                        270 non-null float64\n",
      "chest_pain_type            270 non-null float64\n",
      "blood_pressure             270 non-null float64\n",
      "chol                       270 non-null float64\n",
      "blood_sugar                270 non-null float64\n",
      "rest_ecg                   270 non-null float64\n",
      "max_heart_rate             270 non-null float64\n",
      "exercise_induced_angina    270 non-null float64\n",
      "st_depression              270 non-null float64\n",
      "st_slope                   270 non-null float64\n",
      "num_major_vessels          270 non-null float64\n",
      "thalassemia                270 non-null float64\n",
      "target                     270 non-null int64\n",
      "dtypes: float64(13), int64(1)\n",
      "memory usage: 29.6 KB\n"
     ]
    }
   ],
   "source": [
    "# The following step describes the data a little bit more in depth, showing the type of data in each column and if there are missing values\n",
    "## Alternatively, a combination of data.dtypes and data.isnull().sum() or heart.isnull().values.any() to perform the same task\n",
    "data.info()"
   ]
  },
  {
   "cell_type": "markdown",
   "metadata": {},
   "source": [
    "#### To get an overview of the dataset (eg. range, mean), I generated a chart with 14 histograms (one for each variable/column):"
   ]
  },
  {
   "cell_type": "code",
   "execution_count": 17,
   "metadata": {},
   "outputs": [
    {
     "data": {
      "image/png": "[encoded data removed]",
      "text/plain": [
       "<Figure size 864x864 with 16 Axes>"
      ]
     },
     "metadata": {
      "needs_background": "light"
     },
     "output_type": "display_data"
    }
   ],
   "source": [
    "# Plotting histogram for each variable (and define the size of the visualization)\n",
    "data.hist(figsize = (12, 12))\n",
    "plt.show()"
   ]
  },
  {
   "cell_type": "markdown",
   "metadata": {},
   "source": [
    "#### A Correlation Matrix is also a great way to explore and understand data relationships!"
   ]
  },
  {
   "cell_type": "code",
   "execution_count": 18,
   "metadata": {},
   "outputs": [
    {
     "data": {
      "text/html": [
       "<div>\n",
       "<style scoped>\n",
       "    .dataframe tbody tr th:only-of-type {\n",
       "        vertical-align: middle;\n",
       "    }\n",
       "\n",
       "    .dataframe tbody tr th {\n",
       "        vertical-align: top;\n",
       "    }\n",
       "\n",
       "    .dataframe thead th {\n",
       "        text-align: right;\n",
       "    }\n",
       "</style>\n",
       "<table border=\"1\" class=\"dataframe\">\n",
       "  <thead>\n",
       "    <tr style=\"text-align: right;\">\n",
       "      <th></th>\n",
       "      <th>age</th>\n",
       "      <th>sex</th>\n",
       "      <th>chest_pain_type</th>\n",
       "      <th>blood_pressure</th>\n",
       "      <th>chol</th>\n",
       "      <th>blood_sugar</th>\n",
       "      <th>rest_ecg</th>\n",
       "      <th>max_heart_rate</th>\n",
       "      <th>exercise_induced_angina</th>\n",
       "      <th>st_depression</th>\n",
       "      <th>st_slope</th>\n",
       "      <th>num_major_vessels</th>\n",
       "      <th>thalassemia</th>\n",
       "      <th>target</th>\n",
       "    </tr>\n",
       "  </thead>\n",
       "  <tbody>\n",
       "    <tr>\n",
       "      <th>age</th>\n",
       "      <td>1.000000</td>\n",
       "      <td>-0.094401</td>\n",
       "      <td>0.096920</td>\n",
       "      <td>0.273053</td>\n",
       "      <td>0.220056</td>\n",
       "      <td>0.123458</td>\n",
       "      <td>0.128171</td>\n",
       "      <td>-0.402215</td>\n",
       "      <td>0.098297</td>\n",
       "      <td>0.194234</td>\n",
       "      <td>0.159774</td>\n",
       "      <td>0.356081</td>\n",
       "      <td>0.106100</td>\n",
       "      <td>0.212322</td>\n",
       "    </tr>\n",
       "    <tr>\n",
       "      <th>sex</th>\n",
       "      <td>-0.094401</td>\n",
       "      <td>1.000000</td>\n",
       "      <td>0.034636</td>\n",
       "      <td>-0.062693</td>\n",
       "      <td>-0.201647</td>\n",
       "      <td>0.042140</td>\n",
       "      <td>0.039253</td>\n",
       "      <td>-0.076101</td>\n",
       "      <td>0.180022</td>\n",
       "      <td>0.097412</td>\n",
       "      <td>0.050545</td>\n",
       "      <td>0.086830</td>\n",
       "      <td>0.391046</td>\n",
       "      <td>0.297721</td>\n",
       "    </tr>\n",
       "    <tr>\n",
       "      <th>chest_pain_type</th>\n",
       "      <td>0.096920</td>\n",
       "      <td>0.034636</td>\n",
       "      <td>1.000000</td>\n",
       "      <td>-0.043196</td>\n",
       "      <td>0.090465</td>\n",
       "      <td>-0.098537</td>\n",
       "      <td>0.074325</td>\n",
       "      <td>-0.317682</td>\n",
       "      <td>0.353160</td>\n",
       "      <td>0.167244</td>\n",
       "      <td>0.136900</td>\n",
       "      <td>0.225890</td>\n",
       "      <td>0.262659</td>\n",
       "      <td>0.417436</td>\n",
       "    </tr>\n",
       "    <tr>\n",
       "      <th>blood_pressure</th>\n",
       "      <td>0.273053</td>\n",
       "      <td>-0.062693</td>\n",
       "      <td>-0.043196</td>\n",
       "      <td>1.000000</td>\n",
       "      <td>0.173019</td>\n",
       "      <td>0.155681</td>\n",
       "      <td>0.116157</td>\n",
       "      <td>-0.039136</td>\n",
       "      <td>0.082793</td>\n",
       "      <td>0.222800</td>\n",
       "      <td>0.142472</td>\n",
       "      <td>0.085697</td>\n",
       "      <td>0.132045</td>\n",
       "      <td>0.155383</td>\n",
       "    </tr>\n",
       "    <tr>\n",
       "      <th>chol</th>\n",
       "      <td>0.220056</td>\n",
       "      <td>-0.201647</td>\n",
       "      <td>0.090465</td>\n",
       "      <td>0.173019</td>\n",
       "      <td>1.000000</td>\n",
       "      <td>0.025186</td>\n",
       "      <td>0.167652</td>\n",
       "      <td>-0.018739</td>\n",
       "      <td>0.078243</td>\n",
       "      <td>0.027709</td>\n",
       "      <td>-0.005755</td>\n",
       "      <td>0.126541</td>\n",
       "      <td>0.028836</td>\n",
       "      <td>0.118021</td>\n",
       "    </tr>\n",
       "    <tr>\n",
       "      <th>blood_sugar</th>\n",
       "      <td>0.123458</td>\n",
       "      <td>0.042140</td>\n",
       "      <td>-0.098537</td>\n",
       "      <td>0.155681</td>\n",
       "      <td>0.025186</td>\n",
       "      <td>1.000000</td>\n",
       "      <td>0.053499</td>\n",
       "      <td>0.022494</td>\n",
       "      <td>-0.004107</td>\n",
       "      <td>-0.025538</td>\n",
       "      <td>0.044076</td>\n",
       "      <td>0.123774</td>\n",
       "      <td>0.049237</td>\n",
       "      <td>-0.016319</td>\n",
       "    </tr>\n",
       "    <tr>\n",
       "      <th>rest_ecg</th>\n",
       "      <td>0.128171</td>\n",
       "      <td>0.039253</td>\n",
       "      <td>0.074325</td>\n",
       "      <td>0.116157</td>\n",
       "      <td>0.167652</td>\n",
       "      <td>0.053499</td>\n",
       "      <td>1.000000</td>\n",
       "      <td>-0.074628</td>\n",
       "      <td>0.095098</td>\n",
       "      <td>0.120034</td>\n",
       "      <td>0.160614</td>\n",
       "      <td>0.114368</td>\n",
       "      <td>0.007337</td>\n",
       "      <td>0.182091</td>\n",
       "    </tr>\n",
       "    <tr>\n",
       "      <th>max_heart_rate</th>\n",
       "      <td>-0.402215</td>\n",
       "      <td>-0.076101</td>\n",
       "      <td>-0.317682</td>\n",
       "      <td>-0.039136</td>\n",
       "      <td>-0.018739</td>\n",
       "      <td>0.022494</td>\n",
       "      <td>-0.074628</td>\n",
       "      <td>1.000000</td>\n",
       "      <td>-0.380719</td>\n",
       "      <td>-0.349045</td>\n",
       "      <td>-0.386847</td>\n",
       "      <td>-0.265333</td>\n",
       "      <td>-0.253397</td>\n",
       "      <td>-0.418514</td>\n",
       "    </tr>\n",
       "    <tr>\n",
       "      <th>exercise_induced_angina</th>\n",
       "      <td>0.098297</td>\n",
       "      <td>0.180022</td>\n",
       "      <td>0.353160</td>\n",
       "      <td>0.082793</td>\n",
       "      <td>0.078243</td>\n",
       "      <td>-0.004107</td>\n",
       "      <td>0.095098</td>\n",
       "      <td>-0.380719</td>\n",
       "      <td>1.000000</td>\n",
       "      <td>0.274672</td>\n",
       "      <td>0.255908</td>\n",
       "      <td>0.153347</td>\n",
       "      <td>0.321449</td>\n",
       "      <td>0.419303</td>\n",
       "    </tr>\n",
       "    <tr>\n",
       "      <th>st_depression</th>\n",
       "      <td>0.194234</td>\n",
       "      <td>0.097412</td>\n",
       "      <td>0.167244</td>\n",
       "      <td>0.222800</td>\n",
       "      <td>0.027709</td>\n",
       "      <td>-0.025538</td>\n",
       "      <td>0.120034</td>\n",
       "      <td>-0.349045</td>\n",
       "      <td>0.274672</td>\n",
       "      <td>1.000000</td>\n",
       "      <td>0.609712</td>\n",
       "      <td>0.255005</td>\n",
       "      <td>0.324333</td>\n",
       "      <td>0.417967</td>\n",
       "    </tr>\n",
       "    <tr>\n",
       "      <th>st_slope</th>\n",
       "      <td>0.159774</td>\n",
       "      <td>0.050545</td>\n",
       "      <td>0.136900</td>\n",
       "      <td>0.142472</td>\n",
       "      <td>-0.005755</td>\n",
       "      <td>0.044076</td>\n",
       "      <td>0.160614</td>\n",
       "      <td>-0.386847</td>\n",
       "      <td>0.255908</td>\n",
       "      <td>0.609712</td>\n",
       "      <td>1.000000</td>\n",
       "      <td>0.109498</td>\n",
       "      <td>0.283678</td>\n",
       "      <td>0.337616</td>\n",
       "    </tr>\n",
       "    <tr>\n",
       "      <th>num_major_vessels</th>\n",
       "      <td>0.356081</td>\n",
       "      <td>0.086830</td>\n",
       "      <td>0.225890</td>\n",
       "      <td>0.085697</td>\n",
       "      <td>0.126541</td>\n",
       "      <td>0.123774</td>\n",
       "      <td>0.114368</td>\n",
       "      <td>-0.265333</td>\n",
       "      <td>0.153347</td>\n",
       "      <td>0.255005</td>\n",
       "      <td>0.109498</td>\n",
       "      <td>1.000000</td>\n",
       "      <td>0.255648</td>\n",
       "      <td>0.455336</td>\n",
       "    </tr>\n",
       "    <tr>\n",
       "      <th>thalassemia</th>\n",
       "      <td>0.106100</td>\n",
       "      <td>0.391046</td>\n",
       "      <td>0.262659</td>\n",
       "      <td>0.132045</td>\n",
       "      <td>0.028836</td>\n",
       "      <td>0.049237</td>\n",
       "      <td>0.007337</td>\n",
       "      <td>-0.253397</td>\n",
       "      <td>0.321449</td>\n",
       "      <td>0.324333</td>\n",
       "      <td>0.283678</td>\n",
       "      <td>0.255648</td>\n",
       "      <td>1.000000</td>\n",
       "      <td>0.525020</td>\n",
       "    </tr>\n",
       "    <tr>\n",
       "      <th>target</th>\n",
       "      <td>0.212322</td>\n",
       "      <td>0.297721</td>\n",
       "      <td>0.417436</td>\n",
       "      <td>0.155383</td>\n",
       "      <td>0.118021</td>\n",
       "      <td>-0.016319</td>\n",
       "      <td>0.182091</td>\n",
       "      <td>-0.418514</td>\n",
       "      <td>0.419303</td>\n",
       "      <td>0.417967</td>\n",
       "      <td>0.337616</td>\n",
       "      <td>0.455336</td>\n",
       "      <td>0.525020</td>\n",
       "      <td>1.000000</td>\n",
       "    </tr>\n",
       "  </tbody>\n",
       "</table>\n",
       "</div>"
      ],
      "text/plain": [
       "                              age       sex  chest_pain_type  blood_pressure  \\\n",
       "age                      1.000000 -0.094401         0.096920        0.273053   \n",
       "sex                     -0.094401  1.000000         0.034636       -0.062693   \n",
       "chest_pain_type          0.096920  0.034636         1.000000       -0.043196   \n",
       "blood_pressure           0.273053 -0.062693        -0.043196        1.000000   \n",
       "chol                     0.220056 -0.201647         0.090465        0.173019   \n",
       "blood_sugar              0.123458  0.042140        -0.098537        0.155681   \n",
       "rest_ecg                 0.128171  0.039253         0.074325        0.116157   \n",
       "max_heart_rate          -0.402215 -0.076101        -0.317682       -0.039136   \n",
       "exercise_induced_angina  0.098297  0.180022         0.353160        0.082793   \n",
       "st_depression            0.194234  0.097412         0.167244        0.222800   \n",
       "st_slope                 0.159774  0.050545         0.136900        0.142472   \n",
       "num_major_vessels        0.356081  0.086830         0.225890        0.085697   \n",
       "thalassemia              0.106100  0.391046         0.262659        0.132045   \n",
       "target                   0.212322  0.297721         0.417436        0.155383   \n",
       "\n",
       "                             chol  blood_sugar  rest_ecg  max_heart_rate  \\\n",
       "age                      0.220056     0.123458  0.128171       -0.402215   \n",
       "sex                     -0.201647     0.042140  0.039253       -0.076101   \n",
       "chest_pain_type          0.090465    -0.098537  0.074325       -0.317682   \n",
       "blood_pressure           0.173019     0.155681  0.116157       -0.039136   \n",
       "chol                     1.000000     0.025186  0.167652       -0.018739   \n",
       "blood_sugar              0.025186     1.000000  0.053499        0.022494   \n",
       "rest_ecg                 0.167652     0.053499  1.000000       -0.074628   \n",
       "max_heart_rate          -0.018739     0.022494 -0.074628        1.000000   \n",
       "exercise_induced_angina  0.078243    -0.004107  0.095098       -0.380719   \n",
       "st_depression            0.027709    -0.025538  0.120034       -0.349045   \n",
       "st_slope                -0.005755     0.044076  0.160614       -0.386847   \n",
       "num_major_vessels        0.126541     0.123774  0.114368       -0.265333   \n",
       "thalassemia              0.028836     0.049237  0.007337       -0.253397   \n",
       "target                   0.118021    -0.016319  0.182091       -0.418514   \n",
       "\n",
       "                         exercise_induced_angina  st_depression  st_slope  \\\n",
       "age                                     0.098297       0.194234  0.159774   \n",
       "sex                                     0.180022       0.097412  0.050545   \n",
       "chest_pain_type                         0.353160       0.167244  0.136900   \n",
       "blood_pressure                          0.082793       0.222800  0.142472   \n",
       "chol                                    0.078243       0.027709 -0.005755   \n",
       "blood_sugar                            -0.004107      -0.025538  0.044076   \n",
       "rest_ecg                                0.095098       0.120034  0.160614   \n",
       "max_heart_rate                         -0.380719      -0.349045 -0.386847   \n",
       "exercise_induced_angina                 1.000000       0.274672  0.255908   \n",
       "st_depression                           0.274672       1.000000  0.609712   \n",
       "st_slope                                0.255908       0.609712  1.000000   \n",
       "num_major_vessels                       0.153347       0.255005  0.109498   \n",
       "thalassemia                             0.321449       0.324333  0.283678   \n",
       "target                                  0.419303       0.417967  0.337616   \n",
       "\n",
       "                         num_major_vessels  thalassemia    target  \n",
       "age                               0.356081     0.106100  0.212322  \n",
       "sex                               0.086830     0.391046  0.297721  \n",
       "chest_pain_type                   0.225890     0.262659  0.417436  \n",
       "blood_pressure                    0.085697     0.132045  0.155383  \n",
       "chol                              0.126541     0.028836  0.118021  \n",
       "blood_sugar                       0.123774     0.049237 -0.016319  \n",
       "rest_ecg                          0.114368     0.007337  0.182091  \n",
       "max_heart_rate                   -0.265333    -0.253397 -0.418514  \n",
       "exercise_induced_angina           0.153347     0.321449  0.419303  \n",
       "st_depression                     0.255005     0.324333  0.417967  \n",
       "st_slope                          0.109498     0.283678  0.337616  \n",
       "num_major_vessels                 1.000000     0.255648  0.455336  \n",
       "thalassemia                       0.255648     1.000000  0.525020  \n",
       "target                            0.455336     0.525020  1.000000  "
      ]
     },
     "execution_count": 18,
     "metadata": {},
     "output_type": "execute_result"
    }
   ],
   "source": [
    "# Generating a correlation matrix that indicates what variables in the dataset are more highly correlated with heart disease \n",
    "data.corr()"
   ]
  },
  {
   "cell_type": "code",
   "execution_count": 19,
   "metadata": {},
   "outputs": [
    {
     "data": {
      "text/plain": [
       "<matplotlib.axes._subplots.AxesSubplot at 0x20774d61898>"
      ]
     },
     "execution_count": 19,
     "metadata": {},
     "output_type": "execute_result"
    },
    {
     "data": {
      "image/png": "[encoded data removed]",
      "text/plain": [
       "<Figure size 1008x576 with 2 Axes>"
      ]
     },
     "metadata": {},
     "output_type": "display_data"
    }
   ],
   "source": [
    "# We can also visualize the correlation matrix on a heatmap from the seaborn library\n",
    "sns.set_style('whitegrid')\n",
    "plt.figure(figsize=(14,8))\n",
    "sns.heatmap(data.corr(), annot = True, cmap='coolwarm',linewidths=.1)\n",
    "# linewidths space the blocks from one another to make the correlation table more legible\n",
    "# The seaborn package offers a visually pleasing coorelation matrix\n",
    "# The coolwarm cmap indicates that the darker the block the more significant the variable is in predicting each attribute"
   ]
  },
  {
   "cell_type": "markdown",
   "metadata": {},
   "source": [
    "#### Observations...\n",
    "- Compared to the table visualization, a heatmap offers a better way to quickly examine correlation (via different colors and shades of colors).\n",
    "- The classification problem to understand: what attributes are driving heart disease.\n",
    "- The correlation table helps narrow the scope of attributes to examine which features in the dataset correlate with heart disease.\n",
    "- The matrix indicates that: 'chest_pain_type', 'max_heart_rate', 'exercise_induced_angina', 'st_depression', 'num_major_vessels', and 'thalassemia' are the top 6 indicators of heart disease in this dataset."
   ]
  },
  {
   "cell_type": "markdown",
   "metadata": {},
   "source": [
    "### <u>Visualizing our Data</u> <a id='VD'></a>"
   ]
  },
  {
   "cell_type": "markdown",
   "metadata": {},
   "source": [
    "#### Finding #1: 120 people in the dataset have heart disease while 150 people do not have heart disease."
   ]
  },
  {
   "cell_type": "code",
   "execution_count": 20,
   "metadata": {},
   "outputs": [
    {
     "data": {
      "image/png": "[encoded data removed]",
      "text/plain": [
       "<Figure size 432x288 with 1 Axes>"
      ]
     },
     "metadata": {},
     "output_type": "display_data"
    },
    {
     "name": "stdout",
     "output_type": "stream",
     "text": [
      "1    150\n",
      "2    120\n",
      "Name: target, dtype: int64\n"
     ]
    }
   ],
   "source": [
    "# Determining Target count (our target variable is represented by a binary variable - 1: HEART DISEASE ABSENT; 2: HEART DISEASE PRESENT)\n",
    "sns.countplot(x=\"target\", data=data) ## Visualizing using a histogram\n",
    "plt.show()\n",
    "print(data.target.value_counts()) ## Printing the count"
   ]
  },
  {
   "cell_type": "markdown",
   "metadata": {},
   "source": [
    "#### Finding #2: The majority of data population falls in the range of 40-65.\n",
    "\n",
    "Although age did not have a high correlation coefficient (from our correlation table), I wanted to dive deeper on this specific variable as my initial hypothesis was rooted in the idea that old age drives higher rates of heart disease."
   ]
  },
  {
   "cell_type": "code",
   "execution_count": 21,
   "metadata": {},
   "outputs": [
    {
     "data": {
      "image/png": "[encoded data removed]",
      "text/plain": [
       "<Figure size 432x288 with 1 Axes>"
      ]
     },
     "metadata": {},
     "output_type": "display_data"
    },
    {
     "name": "stdout",
     "output_type": "stream",
     "text": [
      "Min Age : 29.0\n",
      "Max Age : 77.0\n",
      "Mean Age : 54.43333333333333\n"
     ]
    }
   ],
   "source": [
    "# Visualizing the Age distribution of the dataset\n",
    "sns.distplot(data['age'], bins=10, kde=False) ## histogram with 10 bins and kde=false means NOT plotting a gaussian kernel density estimate\n",
    "plt.xlabel('Age') ## Horizontal Axis Label\n",
    "plt.ylabel('Age Count') ## Vertical Axis Label\n",
    "plt.title('Age Analysis') ## Plot Title\n",
    "plt.show()\n",
    "\n",
    "## Printing the minimum, maximum, and mean age\n",
    "minage=min(data.age)\n",
    "maxage=max(data.age)\n",
    "meanage=data.age.mean()\n",
    "print('Min Age :',minage)\n",
    "print('Max Age :',maxage)\n",
    "print('Mean Age :',meanage)"
   ]
  },
  {
   "cell_type": "markdown",
   "metadata": {},
   "source": [
    "#### Finding #3: Approximately two-thirds of the data population are male.\n",
    "\n",
    "It seems like this dataset is skewed much more heavily towards males."
   ]
  },
  {
   "cell_type": "code",
   "execution_count": 22,
   "metadata": {},
   "outputs": [
    {
     "name": "stdout",
     "output_type": "stream",
     "text": [
      "Percentage of males: 67.778\n",
      "Percentage of females: 32.222\n"
     ]
    },
    {
     "data": {
      "image/png": "[encoded data removed]",
      "text/plain": [
       "<Figure size 576x432 with 1 Axes>"
      ]
     },
     "metadata": {},
     "output_type": "display_data"
    }
   ],
   "source": [
    "# Printing percentages of males and females\n",
    "total = len(data[\"sex\"])\n",
    "males = data[\"sex\"].sum() ## Number of males\n",
    "females = len(data[\"sex\"]) - males ## Number of females = Total number of sexes - Number of Males\n",
    "print(\"Percentage of males:\", round(males/total*100, 3)) ## the value 3 refers to 3 decimal places\n",
    "print(\"Percentage of females:\", round(females/total*100, 3))\n",
    "\n",
    "# Plotting on a piechart\n",
    "plt.figure(figsize=(8,6)) ##figsize is the size used to plot the piechart\n",
    "plt.pie([males,females], labels=['Males', 'Females'], colors=['skyblue', 'yellowgreen'],autopct='%1.1f%%', textprops={'fontsize': 18}, shadow=True, startangle=90)\n",
    "plt.axis('equal')\n",
    "plt.show()"
   ]
  },
  {
   "cell_type": "markdown",
   "metadata": {},
   "source": [
    "#### Finding #4: Not a huge disparity (count of heart disease) in males compared to females."
   ]
  },
  {
   "cell_type": "code",
   "execution_count": 23,
   "metadata": {},
   "outputs": [
    {
     "data": {
      "text/plain": [
       "Text(0.5, 0, 'Sex')"
      ]
     },
     "execution_count": 23,
     "metadata": {},
     "output_type": "execute_result"
    },
    {
     "data": {
      "image/png": "[encoded data removed]",
      "text/plain": [
       "<Figure size 432x288 with 1 Axes>"
      ]
     },
     "metadata": {},
     "output_type": "display_data"
    }
   ],
   "source": [
    "# Visualizing the distribution of heart disease by sex using a histogram (0: Females; 1: Males)\n",
    "sex_graph = sns.countplot(data[\"sex\"], hue=data[\"target\"])\n",
    "sex_graph.set_ylabel(\"Count\")\n",
    "sex_graph.set_xlabel(\"Sex\")"
   ]
  },
  {
   "cell_type": "markdown",
   "metadata": {},
   "source": [
    "#### Finding #5: Majority of the data/sample population has Type 4 (ie. asymptomatic) chest pain type."
   ]
  },
  {
   "cell_type": "code",
   "execution_count": 24,
   "metadata": {},
   "outputs": [
    {
     "data": {
      "text/plain": [
       "Text(0, 0.5, 'Count')"
      ]
     },
     "execution_count": 24,
     "metadata": {},
     "output_type": "execute_result"
    },
    {
     "data": {
      "image/png": "[encoded data removed]",
      "text/plain": [
       "<Figure size 432x288 with 1 Axes>"
      ]
     },
     "metadata": {},
     "output_type": "display_data"
    }
   ],
   "source": [
    "## Visualizing distribution of chest pain types using a histogram (4 types of chest pain type in dataset)\n",
    "cp_graph = sns.countplot(data[\"chest_pain_type\"])\n",
    "cp_graph.set_xlabel(\"Chest Pain Type\")\n",
    "cp_graph.set_ylabel(\"Count\")"
   ]
  },
  {
   "cell_type": "markdown",
   "metadata": {},
   "source": [
    "#### Finding #6: Majority of the data/sample population has a Thalassemia value of 3 (ie. normal)."
   ]
  },
  {
   "cell_type": "code",
   "execution_count": 25,
   "metadata": {},
   "outputs": [
    {
     "data": {
      "image/png": "[encoded data removed]",
      "text/plain": [
       "<Figure size 432x288 with 1 Axes>"
      ]
     },
     "metadata": {},
     "output_type": "display_data"
    },
    {
     "name": "stdout",
     "output_type": "stream",
     "text": [
      "3.0    152\n",
      "7.0    104\n",
      "6.0     14\n",
      "Name: thalassemia, dtype: int64\n"
     ]
    }
   ],
   "source": [
    "# There are 3 types of thalassemia - 3: normal; 6: fixed defect; 7: reversable defect\n",
    "sns.countplot(data.thalassemia) ## Plotting using a histogram\n",
    "plt.show()\n",
    "print(data.thalassemia.value_counts()) ## Printing the actual count for each type of Thalassemia"
   ]
  },
  {
   "cell_type": "markdown",
   "metadata": {},
   "source": [
    "## Step 3 - Data Preparation <a id='S3'></a></br><a href='#C'><font size=2><i>(Back to Contents) ↑</i></font></a>\n",
    "### <u>Feature Selection</u><a id='FS'></a>"
   ]
  },
  {
   "cell_type": "code",
   "execution_count": 26,
   "metadata": {},
   "outputs": [],
   "source": [
    "# Defining X and y variables for feature selection\n",
    "X = data.drop([\"target\"], axis=1)\n",
    "y = data[\"target\"]"
   ]
  },
  {
   "cell_type": "markdown",
   "metadata": {},
   "source": [
    "#### Feature Selection Method 1: Univariate Selection\n",
    "- To select those features that have the strongest relationship with the target variable."
   ]
  },
  {
   "cell_type": "code",
   "execution_count": 27,
   "metadata": {},
   "outputs": [
    {
     "name": "stdout",
     "output_type": "stream",
     "text": [
      "                      Specs       Score\n",
      "7            max_heart_rate  168.929831\n",
      "11        num_major_vessels   74.122652\n",
      "12              thalassemia   59.463091\n",
      "9             st_depression   58.697286\n",
      "4                      chol   40.093093\n",
      "8   exercise_induced_angina   31.822472\n",
      "0                       age   18.485273\n",
      "3            blood_pressure   15.775632\n",
      "2           chest_pain_type   13.330455\n",
      "6                  rest_ecg    8.688587\n"
     ]
    }
   ],
   "source": [
    "#apply SelectKBest class to extract top 10 best features\n",
    "bestfeatures = SelectKBest(score_func=chi2, k=10)\n",
    "fit = bestfeatures.fit(X,y)\n",
    "dfscores = pd.DataFrame(fit.scores_)\n",
    "dfcolumns = pd.DataFrame(X.columns)\n",
    "#concat two dataframes for better visualization \n",
    "featureScores = pd.concat([dfcolumns,dfscores],axis=1)\n",
    "featureScores.columns = ['Specs','Score']  #naming the dataframe columns\n",
    "print(featureScores.nlargest(10,'Score'))  #print 10 best features"
   ]
  },
  {
   "cell_type": "markdown",
   "metadata": {},
   "source": [
    "### Top 4 features at a glance...\n",
    "<img src=\"http://charlestay.com/animation1.gif\" width=\"50%\">"
   ]
  },
  {
   "cell_type": "markdown",
   "metadata": {},
   "source": [
    "#### Feature Selection Method 2: Feature Importance\n",
    "- Gives a score for each feature, ,ie. higher score has more importance or relevance to output.\n",
    "- Feature importance is an inbuilt class that comes with Tree Based Classifiers."
   ]
  },
  {
   "cell_type": "code",
   "execution_count": 28,
   "metadata": {},
   "outputs": [
    {
     "name": "stdout",
     "output_type": "stream",
     "text": [
      "[0.06981724 0.04681101 0.10926657 0.06684214 0.06530128 0.02070476\n",
      " 0.03586732 0.07410168 0.08538268 0.07866091 0.06128734 0.12817701\n",
      " 0.15778005]\n"
     ]
    },
    {
     "data": {
      "image/png": "[encoded data removed]",
      "text/plain": [
       "<Figure size 432x288 with 1 Axes>"
      ]
     },
     "metadata": {},
     "output_type": "display_data"
    }
   ],
   "source": [
    "## Feature importance using ExtraTreesClassifier where n_estimators, ie. number of trees, =100\n",
    "model = ExtraTreesClassifier(n_estimators=100)\n",
    "model.fit(X,y)\n",
    "print(model.feature_importances_)  #use inbuilt class feature_importances of tree based classifiers\n",
    "#plot graph of feature importances for better visualization\n",
    "feat_importances = pd.Series(model.feature_importances_, index=X.columns)\n",
    "feat_importances.nlargest(10).plot(kind='barh')\n",
    "plt.show()"
   ]
  },
  {
   "cell_type": "markdown",
   "metadata": {},
   "source": [
    "#### Univariate Selection, Feature Importance, as well as the Correlation Matrix (with Heatmap) that was generated earlier on are three popular Feature Selection Techniques. All three techniques depicted at least 4 similar features, out of the top 5 features in each technique. \n",
    "\n",
    "Feature Selection will be explored in greater depth as I try to improve the results of my weakest model (ie. Support Vector Machine); and it proved to be a major success as you will see later on!"
   ]
  },
  {
   "cell_type": "markdown",
   "metadata": {},
   "source": [
    "### <u>Feature Engineering</u><a id='FE'></a>\n",
    "#### Converting Categorical Data Type to Objects"
   ]
  },
  {
   "cell_type": "code",
   "execution_count": 29,
   "metadata": {},
   "outputs": [],
   "source": [
    "## Converting selected data types into 'object' for one hot encoding - selected data are categorical data types that are polynomial in nature\n",
    "data['sex'] = data['sex'].astype('object')\n",
    "data['chest_pain_type'] = data['chest_pain_type'].astype('object')\n",
    "data['blood_sugar'] = data['blood_sugar'].astype('object')\n",
    "data['rest_ecg'] = data['rest_ecg'].astype('object')\n",
    "data['exercise_induced_angina'] = data['exercise_induced_angina'].astype('object')\n",
    "data['st_slope'] = data['st_slope'].astype('object')\n",
    "data['num_major_vessels'] = data['num_major_vessels'].astype('object')\n",
    "data['thalassemia'] = data['thalassemia'].astype('object')"
   ]
  },
  {
   "cell_type": "markdown",
   "metadata": {},
   "source": [
    "#### Generating Dummy Variables"
   ]
  },
  {
   "cell_type": "code",
   "execution_count": 30,
   "metadata": {},
   "outputs": [
    {
     "data": {
      "text/html": [
       "<div>\n",
       "<style scoped>\n",
       "    .dataframe tbody tr th:only-of-type {\n",
       "        vertical-align: middle;\n",
       "    }\n",
       "\n",
       "    .dataframe tbody tr th {\n",
       "        vertical-align: top;\n",
       "    }\n",
       "\n",
       "    .dataframe thead th {\n",
       "        text-align: right;\n",
       "    }\n",
       "</style>\n",
       "<table border=\"1\" class=\"dataframe\">\n",
       "  <thead>\n",
       "    <tr style=\"text-align: right;\">\n",
       "      <th></th>\n",
       "      <th>age</th>\n",
       "      <th>blood_pressure</th>\n",
       "      <th>chol</th>\n",
       "      <th>max_heart_rate</th>\n",
       "      <th>st_depression</th>\n",
       "      <th>target</th>\n",
       "      <th>sex_0.0</th>\n",
       "      <th>sex_1.0</th>\n",
       "      <th>chest_pain_type_1.0</th>\n",
       "      <th>chest_pain_type_2.0</th>\n",
       "      <th>...</th>\n",
       "      <th>st_slope_1.0</th>\n",
       "      <th>st_slope_2.0</th>\n",
       "      <th>st_slope_3.0</th>\n",
       "      <th>num_major_vessels_0.0</th>\n",
       "      <th>num_major_vessels_1.0</th>\n",
       "      <th>num_major_vessels_2.0</th>\n",
       "      <th>num_major_vessels_3.0</th>\n",
       "      <th>thalassemia_3.0</th>\n",
       "      <th>thalassemia_6.0</th>\n",
       "      <th>thalassemia_7.0</th>\n",
       "    </tr>\n",
       "  </thead>\n",
       "  <tbody>\n",
       "    <tr>\n",
       "      <th>0</th>\n",
       "      <td>70.0</td>\n",
       "      <td>130.0</td>\n",
       "      <td>322.0</td>\n",
       "      <td>109.0</td>\n",
       "      <td>2.4</td>\n",
       "      <td>2</td>\n",
       "      <td>0</td>\n",
       "      <td>1</td>\n",
       "      <td>0</td>\n",
       "      <td>0</td>\n",
       "      <td>...</td>\n",
       "      <td>0</td>\n",
       "      <td>1</td>\n",
       "      <td>0</td>\n",
       "      <td>0</td>\n",
       "      <td>0</td>\n",
       "      <td>0</td>\n",
       "      <td>1</td>\n",
       "      <td>1</td>\n",
       "      <td>0</td>\n",
       "      <td>0</td>\n",
       "    </tr>\n",
       "    <tr>\n",
       "      <th>1</th>\n",
       "      <td>67.0</td>\n",
       "      <td>115.0</td>\n",
       "      <td>564.0</td>\n",
       "      <td>160.0</td>\n",
       "      <td>1.6</td>\n",
       "      <td>1</td>\n",
       "      <td>1</td>\n",
       "      <td>0</td>\n",
       "      <td>0</td>\n",
       "      <td>0</td>\n",
       "      <td>...</td>\n",
       "      <td>0</td>\n",
       "      <td>1</td>\n",
       "      <td>0</td>\n",
       "      <td>1</td>\n",
       "      <td>0</td>\n",
       "      <td>0</td>\n",
       "      <td>0</td>\n",
       "      <td>0</td>\n",
       "      <td>0</td>\n",
       "      <td>1</td>\n",
       "    </tr>\n",
       "  </tbody>\n",
       "</table>\n",
       "<p>2 rows × 29 columns</p>\n",
       "</div>"
      ],
      "text/plain": [
       "    age  blood_pressure   chol  max_heart_rate  st_depression  target  \\\n",
       "0  70.0           130.0  322.0           109.0            2.4       2   \n",
       "1  67.0           115.0  564.0           160.0            1.6       1   \n",
       "\n",
       "   sex_0.0  sex_1.0  chest_pain_type_1.0  chest_pain_type_2.0  \\\n",
       "0        0        1                    0                    0   \n",
       "1        1        0                    0                    0   \n",
       "\n",
       "        ...         st_slope_1.0  st_slope_2.0  st_slope_3.0  \\\n",
       "0       ...                    0             1             0   \n",
       "1       ...                    0             1             0   \n",
       "\n",
       "   num_major_vessels_0.0  num_major_vessels_1.0  num_major_vessels_2.0  \\\n",
       "0                      0                      0                      0   \n",
       "1                      1                      0                      0   \n",
       "\n",
       "   num_major_vessels_3.0  thalassemia_3.0  thalassemia_6.0  thalassemia_7.0  \n",
       "0                      1                1                0                0  \n",
       "1                      0                0                0                1  \n",
       "\n",
       "[2 rows x 29 columns]"
      ]
     },
     "execution_count": 30,
     "metadata": {},
     "output_type": "execute_result"
    }
   ],
   "source": [
    "## Applying one-hot encode categorical features\n",
    "data = pd.get_dummies(data)\n",
    "data.head(2)"
   ]
  },
  {
   "cell_type": "code",
   "execution_count": 31,
   "metadata": {},
   "outputs": [
    {
     "name": "stdout",
     "output_type": "stream",
     "text": [
      "270 x 29\n"
     ]
    }
   ],
   "source": [
    "## Printing the shape of the data\n",
    "print(data.shape[0], \"x\", data.shape[1])"
   ]
  },
  {
   "cell_type": "code",
   "execution_count": 32,
   "metadata": {},
   "outputs": [],
   "source": [
    "# Defining X and y variables for ML Algorithm (now that dummy variables have been generated)\n",
    "X = data.drop([\"target\"], axis=1)\n",
    "y = data[\"target\"]"
   ]
  },
  {
   "cell_type": "markdown",
   "metadata": {},
   "source": [
    "#### <b>***Observation:</b> Performance for all 7 classification models below <u><font color=\"orange\">improved</font></u> by 1-5% WITH <u>FEATURE ENGINEERING!</u>"
   ]
  },
  {
   "cell_type": "markdown",
   "metadata": {},
   "source": [
    "## Step 4 - Classification Models / Machine Learning Algorithms <a id='S4'></a></br><a href='#C'><font size=2><i>(Back to Contents) ↑</i></font></a>\n",
    "\n",
    "Since the problem of predicting heart disease is a classification problem, I ran the dataset across the most popular classification algorithms. Here is a list, feel free to click on the links to navigate to desired sections.\n",
    "\n",
    "[K-Nearest Neigbors (KNN)](#KNN)</br>\n",
    "[Logistic Regression](#LR)</br>\n",
    "[Gradient Boosting](#GB)</br>\n",
    "[Support Vector Machine (SVM)](#SVM)</br>\n",
    "[Decision Tree](#DT)</br>\n",
    "[Random Forest](#RF)</br>\n",
    "[Naive Bayes](#NB)\n",
    "\n",
    "Before we dive in, I would like to explain the two most commonly-used functions in this section:\n",
    "- \"scoring=\" : scoring method of our model (possible values include: accuracy, precision, recall, f1 score)\n",
    "- \"cv=\" : number of folds in cross validation technique\n",
    "\n",
    "### <u>K-Nearest Neighbors (KNN)</u><a id='KNN'></a>"
   ]
  },
  {
   "cell_type": "code",
   "execution_count": 33,
   "metadata": {},
   "outputs": [
    {
     "name": "stdout",
     "output_type": "stream",
     "text": [
      "0.6666666666666667\n"
     ]
    }
   ],
   "source": [
    "# Used an industry practice of a 10-fold cross-validation with k=10 (the n_neighbors hyperparameter)\n",
    "knn = KNeighborsClassifier(n_neighbors=10)\n",
    "scores = cross_val_score(knn, X, y, cv=10, scoring='accuracy') #cv is the cross-validation parameter\n",
    "print(scores.mean()) # average accuracy used for an estimate of out-of-sample accuracy"
   ]
  },
  {
   "cell_type": "code",
   "execution_count": 34,
   "metadata": {},
   "outputs": [
    {
     "data": {
      "text/plain": [
       "Text(0, 0.5, 'Accuracy Score')"
      ]
     },
     "execution_count": 34,
     "metadata": {},
     "output_type": "execute_result"
    },
    {
     "data": {
      "image/png": "[encoded data removed]",
      "text/plain": [
       "<Figure size 432x288 with 1 Axes>"
      ]
     },
     "metadata": {},
     "output_type": "display_data"
    }
   ],
   "source": [
    "# Now, let's iterate through potential values of K to find an optimal value for our KNN model and to confirm if k=10 was a good value\n",
    "k_range = range(1,101)\n",
    "models = []\n",
    "for k in k_range: \n",
    "    knn = KNeighborsClassifier(n_neighbors=k)\n",
    "    k_scores = cross_val_score(knn, X, y, cv=10, scoring='accuracy')\n",
    "    models.append(k_scores.mean())\n",
    "    \n",
    "# Let's plot the k values to see more quickly what k value generates the highest accuracy score\n",
    "plt.plot(k_range, models)\n",
    "plt.xlabel('K Value')\n",
    "plt.ylabel('Accuracy Score')"
   ]
  },
  {
   "cell_type": "code",
   "execution_count": 35,
   "metadata": {},
   "outputs": [
    {
     "name": "stdout",
     "output_type": "stream",
     "text": [
      "accuracy: 0.6888888888888889\n"
     ]
    }
   ],
   "source": [
    "# From the work above (identifying the peak), the best value seems to be 22, plugging that in, we get an accuracy of 0.689 \n",
    "knn = KNeighborsClassifier(n_neighbors=22)\n",
    "knn_scores_accuracy = (cross_val_score(knn, X, y, cv=10, scoring='accuracy').mean())\n",
    "print(\"accuracy:\", knn_scores_accuracy.mean())"
   ]
  },
  {
   "cell_type": "markdown",
   "metadata": {},
   "source": [
    "True enough, k = 22 produced the highest accuracy score."
   ]
  },
  {
   "cell_type": "code",
   "execution_count": 36,
   "metadata": {},
   "outputs": [
    {
     "name": "stdout",
     "output_type": "stream",
     "text": [
      "[[122  28]\n",
      " [ 56  64]]\n",
      "precision: 0.6843567251461988\n",
      "recall: 0.8133333333333332\n",
      "f1 score: 0.7427577482605946\n"
     ]
    }
   ],
   "source": [
    "# With k=22, let's take a look at the precision, recall, and f1 performances.\n",
    "knn_predictions = cross_val_predict(knn, X, y, cv=10)\n",
    "print(confusion_matrix(y, knn_predictions))\n",
    "knn_scores_precision = (cross_val_score(knn, X, y, cv=10, scoring='precision').mean())\n",
    "knn_scores_recall = (cross_val_score(knn, X, y, cv=10, scoring='recall').mean())\n",
    "knn_scores_f1 = (cross_val_score(knn, X, y, cv=10, scoring='f1').mean())\n",
    "print(\"precision:\", knn_scores_precision.mean())\n",
    "print(\"recall:\", knn_scores_recall.mean())\n",
    "print(\"f1 score:\", knn_scores_f1.mean())"
   ]
  },
  {
   "cell_type": "markdown",
   "metadata": {},
   "source": [
    "### <u>Logistic Regression</u><a id='LR'></a>"
   ]
  },
  {
   "cell_type": "code",
   "execution_count": 37,
   "metadata": {},
   "outputs": [
    {
     "name": "stdout",
     "output_type": "stream",
     "text": [
      "[[136  14]\n",
      " [ 23  97]]\n",
      "accuracy: 0.8629629629629629\n",
      "precision: 0.8635236989532654\n",
      "recall: 0.9066666666666666\n",
      "f1 score: 0.8803428500252586\n"
     ]
    }
   ],
   "source": [
    "# Logistic Regression with a 10-fold cross validation\n",
    "## I tried other cv values which generated similar results but cv=10 produced a higher precision\n",
    "lr_model = LogisticRegression(solver=\"liblinear\")\n",
    "lr_predictions = cross_val_predict(lr_model, X, y, cv=10)\n",
    "print(confusion_matrix(y, lr_predictions))\n",
    "lr_scores_recall = cross_val_score(lr_model, X, y, scoring=\"recall\", cv=10)\n",
    "lr_scores_accuracy = cross_val_score(lr_model, X, y, scoring=\"accuracy\", cv=10)\n",
    "lr_scores_f1 = (cross_val_score(lr_model, X, y, scoring='f1', cv=10).mean())\n",
    "lr_scores_precision = (cross_val_score(lr_model, X, y, scoring='precision', cv=10).mean())\n",
    "print(\"accuracy:\", lr_scores_accuracy.mean())\n",
    "print(\"precision:\", lr_scores_precision.mean())\n",
    "print(\"recall:\", lr_scores_recall.mean())\n",
    "print(\"f1 score:\", lr_scores_f1.mean())"
   ]
  },
  {
   "cell_type": "markdown",
   "metadata": {},
   "source": [
    "### <u>Gradient Boosting</u><a id='GB'></a>\n",
    "Gradient Boosting (and variations of it such as eXtreme Gradient Boosting, XGBoost) is widely used by Data Scientists and in Kaggle competitions, with some sources stating that it is the <a href=\"https://www.kdnuggets.com/2017/10/xgboost-top-machine-learning-method-kaggle-explained.html\">top machine learning algorithm on Kaggle\" (Reinstein 2017)</a>.\n",
    "\n",
    "Gradient Boosting (GB) resembles Random Forest (RF), one key difference is that GB uses regression tree while RF uses decision tree."
   ]
  },
  {
   "cell_type": "code",
   "execution_count": 38,
   "metadata": {},
   "outputs": [
    {
     "name": "stdout",
     "output_type": "stream",
     "text": [
      "[[128  22]\n",
      " [ 40  80]]\n",
      "accuracy: 0.7555555555555555\n",
      "precision: 0.7872626418988649\n",
      "recall: 0.7933333333333333\n",
      "f1 score: 0.777107503859287\n"
     ]
    }
   ],
   "source": [
    "# Gradient Boosting Classifier\n",
    "## exponential loss, learning rate of 0.03 (ie. this shrinks the contribution of each tree by 0.03)\n",
    "## 75 (number of) boosting stages to perform (GB is fairly robust to over-fitting; a large number usually results in better performance)\n",
    "## Maximum depth of 6 (the maximum depth limits the number of nodes in the tree)\n",
    "\n",
    "gb_model = GradientBoostingClassifier(loss='exponential', learning_rate=0.03, n_estimators=75 , max_depth=6)\n",
    "gb_predictions = cross_val_predict(gb_model, X, y, cv=5)\n",
    "print(confusion_matrix(y, gb_predictions))\n",
    "gb_scores_accuracy = cross_val_score(gb_model, X, y, scoring=\"accuracy\", cv=10)\n",
    "gb_scores_precision = cross_val_score(gb_model, X, y, scoring=\"precision\", cv=10)\n",
    "gb_scores_recall = cross_val_score(gb_model, X, y, scoring=\"recall\", cv=10)\n",
    "gb_scores_f1 = cross_val_score(gb_model, X, y, scoring=\"f1\", cv=10)\n",
    "print(\"accuracy:\", gb_scores_accuracy.mean())\n",
    "print(\"precision:\", gb_scores_precision.mean())\n",
    "print(\"recall:\", gb_scores_recall.mean())\n",
    "print(\"f1 score:\", gb_scores_f1.mean())"
   ]
  },
  {
   "cell_type": "markdown",
   "metadata": {},
   "source": [
    "### <u>Support Vector Machine (SVM)</u><a id='SVM'></a>"
   ]
  },
  {
   "cell_type": "code",
   "execution_count": 39,
   "metadata": {},
   "outputs": [
    {
     "name": "stdout",
     "output_type": "stream",
     "text": [
      "[[147   3]\n",
      " [112   8]]\n",
      "accuracy: 0.5740740740740741\n",
      "precision: 0.5678632478632478\n",
      "recall: 0.9800000000000001\n",
      "f1 score: 0.7189895470383274\n"
     ]
    }
   ],
   "source": [
    "## Support Vector Machine - SVM seems to provide the best recall result but relatively low accuracy (compared to our other models)\n",
    "svc_model = SVC(gamma=\"auto\")\n",
    "svc_predictions = cross_val_predict(svc_model, X, y, cv=5)\n",
    "print(confusion_matrix(y, svc_predictions))\n",
    "svc_scores_recall = cross_val_score(svc_model, X, y, scoring=\"recall\", cv=10)\n",
    "svc_scores_accuracy = cross_val_score(svc_model, X, y, scoring=\"accuracy\", cv=10)\n",
    "svc_scores_f1 = (cross_val_score(svc_model, X, y, scoring='f1', cv=10).mean())\n",
    "svc_scores_precision = (cross_val_score(svc_model, X, y, scoring='precision', cv=10).mean())\n",
    "print(\"accuracy:\", svc_scores_accuracy.mean())\n",
    "print(\"precision:\", svc_scores_precision.mean())\n",
    "print(\"recall:\", svc_scores_recall.mean())\n",
    "print(\"f1 score:\", svc_scores_f1.mean())"
   ]
  },
  {
   "cell_type": "markdown",
   "metadata": {},
   "source": [
    "In order to improve accuracy, I feature engineered our SVM by applying featuring scaling on age, blood pressure, cholesterol, maximum heart rate and st depression."
   ]
  },
  {
   "cell_type": "code",
   "execution_count": 40,
   "metadata": {},
   "outputs": [],
   "source": [
    "# Feature Scaling on SVM\n",
    "## Applying MinMaxScaler in sklearn.\n",
    "X[\"age\"] = X[\"age\"].map(lambda x: (x - X[\"age\"].min()) / (X[\"age\"].max() - X[\"age\"].min()))\n",
    "X[\"blood_pressure\"] = X[\"blood_pressure\"].map(lambda x: (x - X[\"blood_pressure\"].min()) / (X[\"blood_pressure\"].max() - X[\"blood_pressure\"].min()))\n",
    "X[\"chol\"] = X[\"chol\"].map(lambda x: (x - X[\"chol\"].min()) / (X[\"chol\"].max() - X[\"chol\"].min()))\n",
    "X[\"max_heart_rate\"] = X[\"max_heart_rate\"].map(lambda x: (x - X[\"max_heart_rate\"].min()) / (X[\"max_heart_rate\"].max() - X[\"max_heart_rate\"].min()))\n",
    "X[\"st_depression\"] = X[\"st_depression\"].map(lambda x: (x - X[\"st_depression\"].min()) / (X[\"st_depression\"].max() - X[\"st_depression\"].min()))"
   ]
  },
  {
   "cell_type": "code",
   "execution_count": 41,
   "metadata": {},
   "outputs": [
    {
     "name": "stdout",
     "output_type": "stream",
     "text": [
      "[[135  15]\n",
      " [ 27  93]]\n",
      "accuracy: 0.8444444444444444\n",
      "precision: 0.8343550543384509\n",
      "recall 0.9\n",
      "f1 score 0.8657206126765884\n"
     ]
    }
   ],
   "source": [
    "# Cross Validation of 5-folds (produced better results than 10-folds)\n",
    "svc_model = SVC(gamma=\"auto\")\n",
    "svc_predictions = cross_val_predict(svc_model, X, y, cv=5)\n",
    "print(confusion_matrix(y, svc_predictions))\n",
    "svc_scores_recall = cross_val_score(svc_model, X, y, scoring=\"recall\", cv=5)\n",
    "svc_scores_accuracy = cross_val_score(svc_model, X, y, scoring=\"accuracy\", cv=5)\n",
    "svc_scores_f1 = cross_val_score(svc_model, X, y, scoring=\"f1\", cv=5)\n",
    "svc_scores_precision = cross_val_score(svc_model, X, y, scoring=\"precision\", cv=5)\n",
    "print(\"accuracy:\", svc_scores_accuracy.mean())\n",
    "print(\"precision:\", svc_scores_precision.mean())\n",
    "print(\"recall\", svc_scores_recall.mean())\n",
    "print(\"f1 score\", svc_scores_f1.mean())"
   ]
  },
  {
   "cell_type": "markdown",
   "metadata": {},
   "source": [
    "<b>With feature scaling, I managed to improve accuracy of our SVM model from 57.4% to 84.4%!</b></br>\n",
    "This motivated me to try other methods of data manipulation (ie. feature selection):"
   ]
  },
  {
   "cell_type": "code",
   "execution_count": 42,
   "metadata": {},
   "outputs": [
    {
     "name": "stdout",
     "output_type": "stream",
     "text": [
      "[[125  25]\n",
      " [ 41  79]]\n",
      "the best percentage so far: 1\n",
      "the best recall so far 0.8333333333333333 \n",
      "\n",
      "[[125  25]\n",
      " [ 41  79]]\n",
      "the best percentage so far: 1\n",
      "the best accuracy so far 0.7555555555555555 \n",
      "\n",
      "[[131  19]\n",
      " [ 53  67]]\n",
      "the best percentage so far: 4\n",
      "the best recall so far 0.8733333333333334 \n",
      "\n",
      "[[125  25]\n",
      " [ 37  83]]\n",
      "the best percentage so far: 8\n",
      "the best accuracy so far 0.7703703703703704 \n",
      "\n",
      "[[134  16]\n",
      " [ 26  94]]\n",
      "the best percentage so far: 15\n",
      "the best recall so far 0.8933333333333333 \n",
      "\n",
      "[[134  16]\n",
      " [ 26  94]]\n",
      "the best percentage so far: 15\n",
      "the best accuracy so far 0.8444444444444444 \n",
      "\n",
      "[[134  16]\n",
      " [ 25  95]]\n",
      "the best percentage so far: 19\n",
      "the best accuracy so far 0.8481481481481481 \n",
      "\n",
      "[[135  15]\n",
      " [ 22  98]]\n",
      "the best percentage so far: 23\n",
      "the best recall so far 0.9 \n",
      "\n",
      "[[135  15]\n",
      " [ 22  98]]\n",
      "the best percentage so far: 23\n",
      "the best accuracy so far 0.8629629629629628 \n",
      "\n",
      "[[136  14]\n",
      " [ 26  94]]\n",
      "the best percentage so far: 30\n",
      "the best recall so far 0.9066666666666668 \n",
      "\n",
      "[[137  13]\n",
      " [ 23  97]]\n",
      "the best percentage so far: 63\n",
      "the best recall so far 0.9133333333333334 \n",
      "\n",
      "[[137  13]\n",
      " [ 23  97]]\n",
      "the best percentage so far: 63\n",
      "the best accuracy so far 0.8666666666666666 \n",
      "\n",
      "[[138  12]\n",
      " [ 26  94]]\n",
      "the best percentage so far: 67\n",
      "the best recall so far 0.9200000000000002 \n",
      "\n"
     ]
    }
   ],
   "source": [
    "# Feature Selection on SVM using sklearn.feature_selection.SelectPercentile and applying chi2 (Chi-squared stats)\n",
    "best_recall = 0\n",
    "best_accuracy = 0\n",
    "for n in range(1, 101): ## range 1-100th percentile for chi-square\n",
    "    X_new = SelectPercentile(chi2, percentile=n).fit_transform(X, y)\n",
    "\n",
    "    svc_model = SVC(gamma=\"auto\")\n",
    "    svc_predictions = cross_val_predict(svc_model, X_new, y, cv=10) ## CV of 10\n",
    "    svc_scores_recall = cross_val_score(svc_model, X_new, y, scoring=\"recall\", cv=10)\n",
    "    svc_scores_accuracy = cross_val_score(svc_model, X_new, y, scoring=\"accuracy\", cv=10)\n",
    "    \n",
    "    if svc_scores_recall.mean() > best_recall: ## runs through all recalls greater than the mean\n",
    "        best_recall = svc_scores_recall.mean()\n",
    "        print(confusion_matrix(y, svc_predictions))\n",
    "        print(\"the best percentage so far:\", n)\n",
    "        print(\"the best recall so far\", svc_scores_recall.mean(), \"\\n\")\n",
    "        \n",
    "    if svc_scores_accuracy.mean() > best_accuracy: ## runs through all accuracies greater than the mean\n",
    "        best_accuracy = svc_scores_accuracy.mean()\n",
    "        print(confusion_matrix(y, svc_predictions))\n",
    "        print(\"the best percentage so far:\", n)\n",
    "        print(\"the best accuracy so far\", svc_scores_accuracy.mean(), \"\\n\")"
   ]
  },
  {
   "cell_type": "code",
   "execution_count": 43,
   "metadata": {},
   "outputs": [],
   "source": [
    "## Accuracy is highest at the 63rd Percentile."
   ]
  },
  {
   "cell_type": "code",
   "execution_count": 44,
   "metadata": {},
   "outputs": [
    {
     "name": "stdout",
     "output_type": "stream",
     "text": [
      "[[137  13]\n",
      " [ 23  97]]\n",
      "Highest accuracy score:  0.8666666666666666 \n",
      "\n",
      "Corresponding precision:  0.8629147245942912 \n",
      "\n",
      "Corresponding recall:  0.9133333333333334 \n",
      "\n",
      "Corresponding f1 score:  0.8836502392948281 \n",
      "\n"
     ]
    }
   ],
   "source": [
    "X_new = SelectPercentile(chi2, percentile=63).fit_transform(X, y)        \n",
    "svc_model = SVC(gamma=\"auto\")\n",
    "svc_predictions = cross_val_predict(svc_model, X_new, y, cv=10)\n",
    "print(confusion_matrix(y, svc_predictions))\n",
    "svc_scores_recall = cross_val_score(svc_model, X_new, y, scoring=\"recall\", cv=10)\n",
    "svc_scores_accuracy = cross_val_score(svc_model, X_new, y, scoring=\"accuracy\", cv=10)\n",
    "svc_scores_precision = cross_val_score(svc_model, X_new, y, scoring=\"precision\", cv=10)\n",
    "svc_scores_f1 = cross_val_score(svc_model, X_new, y, scoring=\"f1\", cv=10)\n",
    "print(\"Highest accuracy score: \", svc_scores_accuracy.mean(), \"\\n\")\n",
    "print(\"Corresponding precision: \", svc_scores_precision.mean(), \"\\n\")\n",
    "print(\"Corresponding recall: \", svc_scores_recall.mean(), \"\\n\")\n",
    "print(\"Corresponding f1 score: \", svc_scores_f1.mean(), \"\\n\")"
   ]
  },
  {
   "cell_type": "code",
   "execution_count": 45,
   "metadata": {},
   "outputs": [
    {
     "name": "stdout",
     "output_type": "stream",
     "text": [
      "Old number of features used: 28\n",
      "New number of features used: 18\n"
     ]
    }
   ],
   "source": [
    "## Print number of old features used\n",
    "print(\"Old number of features used:\",X.shape[1])\n",
    "## Print number of new features used\n",
    "print(\"New number of features used:\",X_new.shape[1])"
   ]
  },
  {
   "cell_type": "markdown",
   "metadata": {},
   "source": [
    "#### Using feature selection, we reduced the number of (irrelevant) features and now use only 18 of the original 28 features. These are the 18 features with the highest correlation. This greatly improved the accuracy score of our Support Vector Machine Model."
   ]
  },
  {
   "cell_type": "markdown",
   "metadata": {
    "colab_type": "text",
    "id": "V9YYv2avFji4"
   },
   "source": [
    "### <u>Decision Tree</u><a id='DT'></a>"
   ]
  },
  {
   "cell_type": "code",
   "execution_count": 46,
   "metadata": {
    "colab": {},
    "colab_type": "code",
    "id": "vWsWqMzSFji7"
   },
   "outputs": [],
   "source": [
    "# test_size=0.3 splits our data into a 70/30 split\n",
    "X_train, X_test, y_train, y_test = train_test_split(X, y, test_size=0.30, random_state=10)"
   ]
  },
  {
   "cell_type": "code",
   "execution_count": 47,
   "metadata": {
    "colab": {},
    "colab_type": "code",
    "id": "EhlAr3aPFjjC",
    "outputId": "0084cbc1-8093-465b-c549-3d7f5ea168e1"
   },
   "outputs": [
    {
     "data": {
      "text/plain": [
       "DecisionTreeClassifier(class_weight=None, criterion='gini', max_depth=None,\n",
       "            max_features=None, max_leaf_nodes=None,\n",
       "            min_impurity_decrease=0.0, min_impurity_split=None,\n",
       "            min_samples_leaf=1, min_samples_split=2,\n",
       "            min_weight_fraction_leaf=0.0, presort=False, random_state=None,\n",
       "            splitter='best')"
      ]
     },
     "execution_count": 47,
     "metadata": {},
     "output_type": "execute_result"
    }
   ],
   "source": [
    "# Decision Tree Classifier/Algorithm\n",
    "DT = DecisionTreeClassifier()\n",
    "DT.fit(X_train, y_train)"
   ]
  },
  {
   "cell_type": "code",
   "execution_count": 48,
   "metadata": {
    "colab": {},
    "colab_type": "code",
    "id": "eW79CVBqFjjI",
    "outputId": "2e148d25-105e-4618-8968-cc34fdeed2f0"
   },
   "outputs": [
    {
     "name": "stdout",
     "output_type": "stream",
     "text": [
      "accuracy:  0.691358024691358\n"
     ]
    }
   ],
   "source": [
    "y_pred = DT.predict(X_test)\n",
    "print(\"accuracy: \", DT.score(X_test, y_test))"
   ]
  },
  {
   "cell_type": "code",
   "execution_count": 49,
   "metadata": {},
   "outputs": [
    {
     "name": "stdout",
     "output_type": "stream",
     "text": [
      "              precision    recall  f1-score   support\n",
      "\n",
      "           1       0.66      0.71      0.68        38\n",
      "           2       0.72      0.67      0.70        43\n",
      "\n",
      "   micro avg       0.69      0.69      0.69        81\n",
      "   macro avg       0.69      0.69      0.69        81\n",
      "weighted avg       0.69      0.69      0.69        81\n",
      "\n"
     ]
    }
   ],
   "source": [
    "# Printing other evaluation metrics, such as precision, recall, f1-score\n",
    "## Reference - Target 1: Heart Disease Absent; Target 2: Heart Disease Present\n",
    "report = classification_report(y_test,y_pred)\n",
    "print(report)"
   ]
  },
  {
   "cell_type": "code",
   "execution_count": 50,
   "metadata": {
    "colab": {},
    "colab_type": "code",
    "id": "6-IGnu0NFjjY"
   },
   "outputs": [],
   "source": [
    "# I was interested in seeing how changing our train-test split ratio to 80-20 affects accuracy (ie. feeding more data to our training set)\n",
    "X=data.drop('target',axis=1)\n",
    "Y=data['target']\n",
    "X_train, X_test, y_train, y_test = train_test_split(X, y, test_size=0.20, random_state=10)"
   ]
  },
  {
   "cell_type": "code",
   "execution_count": 51,
   "metadata": {
    "colab": {},
    "colab_type": "code",
    "id": "6fsbm2l4Fjjb",
    "outputId": "5860fe8c-e9dd-469b-d2e1-aec345f29fd7"
   },
   "outputs": [
    {
     "data": {
      "text/plain": [
       "DecisionTreeClassifier(class_weight=None, criterion='gini', max_depth=None,\n",
       "            max_features=None, max_leaf_nodes=None,\n",
       "            min_impurity_decrease=0.0, min_impurity_split=None,\n",
       "            min_samples_leaf=1, min_samples_split=2,\n",
       "            min_weight_fraction_leaf=0.0, presort=False, random_state=None,\n",
       "            splitter='best')"
      ]
     },
     "execution_count": 51,
     "metadata": {},
     "output_type": "execute_result"
    }
   ],
   "source": [
    "DT.fit(X_train, y_train)"
   ]
  },
  {
   "cell_type": "code",
   "execution_count": 52,
   "metadata": {
    "colab": {},
    "colab_type": "code",
    "id": "Oa6cBV2LFjje",
    "outputId": "5654895e-9518-41a7-ee57-ab92851f544d"
   },
   "outputs": [
    {
     "name": "stdout",
     "output_type": "stream",
     "text": [
      "accuracy  0.8148148148148148\n"
     ]
    }
   ],
   "source": [
    "y_pred = DT.predict(X_test)\n",
    "print(\"accuracy \", DT.score(X_test, y_test))"
   ]
  },
  {
   "cell_type": "code",
   "execution_count": 53,
   "metadata": {},
   "outputs": [
    {
     "name": "stdout",
     "output_type": "stream",
     "text": [
      "              precision    recall  f1-score   support\n",
      "\n",
      "           1       0.83      0.77      0.80        26\n",
      "           2       0.80      0.86      0.83        28\n",
      "\n",
      "   micro avg       0.81      0.81      0.81        54\n",
      "   macro avg       0.82      0.81      0.81        54\n",
      "weighted avg       0.82      0.81      0.81        54\n",
      "\n"
     ]
    }
   ],
   "source": [
    "# Printing other evaluation metrics, such as precision, recall, f1-score\n",
    "## Reference - Target 1: Heart Disease Absent; Target 2: Heart Disease Present\n",
    "report = classification_report(y_test,y_pred)\n",
    "print(report)\n",
    "\n",
    "# Definining dtcm = decision tree confusion matrix (to be used in Section 5)\n",
    "dtcm = confusion_matrix(y_pred, y_test)"
   ]
  },
  {
   "cell_type": "markdown",
   "metadata": {},
   "source": [
    "#### Observation: A 80-20 split generated an overall better performance than 70-30 for Decision Tree."
   ]
  },
  {
   "cell_type": "markdown",
   "metadata": {
    "colab": {},
    "colab_type": "code",
    "id": "lNbm2LdJFjjn"
   },
   "source": [
    "### <u>Random Forest</u><a id='RF'></a>"
   ]
  },
  {
   "cell_type": "code",
   "execution_count": 54,
   "metadata": {
    "colab": {},
    "colab_type": "code",
    "id": "ZW4SVdJpFjjq"
   },
   "outputs": [],
   "source": [
    "# Random Forest Model (100 trees)\n",
    "RF = RandomForestClassifier(n_estimators=100)"
   ]
  },
  {
   "cell_type": "code",
   "execution_count": 55,
   "metadata": {
    "colab": {},
    "colab_type": "code",
    "id": "smVtENgTFjju",
    "outputId": "a72a3008-5fcd-4cf6-8f6e-0469d142335d"
   },
   "outputs": [
    {
     "data": {
      "text/plain": [
       "RandomForestClassifier(bootstrap=True, class_weight=None, criterion='gini',\n",
       "            max_depth=None, max_features='auto', max_leaf_nodes=None,\n",
       "            min_impurity_decrease=0.0, min_impurity_split=None,\n",
       "            min_samples_leaf=1, min_samples_split=2,\n",
       "            min_weight_fraction_leaf=0.0, n_estimators=100, n_jobs=None,\n",
       "            oob_score=False, random_state=None, verbose=0,\n",
       "            warm_start=False)"
      ]
     },
     "execution_count": 55,
     "metadata": {},
     "output_type": "execute_result"
    }
   ],
   "source": [
    "# Using previously-defined 80-20 split\n",
    "RF.fit(X_train, y_train)"
   ]
  },
  {
   "cell_type": "code",
   "execution_count": 56,
   "metadata": {
    "colab": {},
    "colab_type": "code",
    "id": "SiskWZMtFjj1",
    "outputId": "a1891d95-8562-428e-9222-3bcfb82c7a1d"
   },
   "outputs": [
    {
     "name": "stdout",
     "output_type": "stream",
     "text": [
      "accuracy:  0.8888888888888888\n"
     ]
    }
   ],
   "source": [
    "y_pred = RF.predict(X_test)\n",
    "print(\"accuracy: \", RF.score(X_test, y_test))"
   ]
  },
  {
   "cell_type": "code",
   "execution_count": 57,
   "metadata": {},
   "outputs": [
    {
     "name": "stdout",
     "output_type": "stream",
     "text": [
      "              precision    recall  f1-score   support\n",
      "\n",
      "           1       0.86      0.92      0.89        26\n",
      "           2       0.92      0.86      0.89        28\n",
      "\n",
      "   micro avg       0.89      0.89      0.89        54\n",
      "   macro avg       0.89      0.89      0.89        54\n",
      "weighted avg       0.89      0.89      0.89        54\n",
      "\n"
     ]
    }
   ],
   "source": [
    "# Printing other evaluation metrics, such as precision, recall, f1-score\n",
    "## Reference - Target 1: Heart Disease Absent; Target 2: Heart Disease Present\n",
    "report = classification_report(y_test,y_pred)\n",
    "print(report)\n",
    "# Definining rfcm = random forest confusion matrix (to be used in Section 5)\n",
    "rfcm = confusion_matrix(y_pred, y_test)"
   ]
  },
  {
   "cell_type": "code",
   "execution_count": 58,
   "metadata": {},
   "outputs": [
    {
     "name": "stdout",
     "output_type": "stream",
     "text": [
      "[[131  19]\n",
      " [ 27  93]]\n",
      "accuracy: 0.8333333333333333\n",
      "precision: 0.8418019648050608\n",
      "recall: 0.8866666666666667\n",
      "f1 score: 0.8634076784835798\n"
     ]
    }
   ],
   "source": [
    "## Random Forest with Cross Validation instead of 70-30 train-test split\n",
    "rf_model = RandomForestClassifier(n_estimators=100)\n",
    "rf_predictions = cross_val_predict(rf_model, X, y, cv=10)\n",
    "print(confusion_matrix(y, rf_predictions))\n",
    "rf_scores_recall = cross_val_score(rf_model, X, y, scoring=\"recall\", cv=10)\n",
    "rf_scores_accuracy = cross_val_score(rf_model, X, y, scoring=\"accuracy\", cv=10)\n",
    "rf_scores_precision = cross_val_score(rf_model, X, y, scoring=\"precision\", cv=10)\n",
    "rf_scores_f1 = cross_val_score(rf_model, X, y, scoring=\"f1\", cv=10)\n",
    "print(\"accuracy:\", rf_scores_accuracy.mean())\n",
    "print(\"precision:\", rf_scores_precision.mean())\n",
    "print(\"recall:\", rf_scores_recall.mean())\n",
    "print(\"f1 score:\", rf_scores_f1.mean())"
   ]
  },
  {
   "cell_type": "markdown",
   "metadata": {},
   "source": [
    "<b>Observation: Random Forest with Cross Validation of 10 folds yield a higher accuracy than a 80-20 split.</b>"
   ]
  },
  {
   "cell_type": "markdown",
   "metadata": {},
   "source": [
    "### <u>Naive Bayes</u><a id='NB'></a>"
   ]
  },
  {
   "cell_type": "code",
   "execution_count": 59,
   "metadata": {
    "colab": {},
    "colab_type": "code",
    "id": "iXLwPEfzsvUW"
   },
   "outputs": [],
   "source": [
    "# Performing Naive Bayes\n",
    "nb_model = GaussianNB()"
   ]
  },
  {
   "cell_type": "code",
   "execution_count": 60,
   "metadata": {},
   "outputs": [],
   "source": [
    "# Naive Bayes with 70-30 train-test split.\n",
    "X_train, X_test, y_train, y_test = train_test_split(X, y, test_size=0.30, random_state=10)"
   ]
  },
  {
   "cell_type": "code",
   "execution_count": 61,
   "metadata": {
    "colab": {},
    "colab_type": "code",
    "id": "L9rAnv9asvUX"
   },
   "outputs": [
    {
     "data": {
      "text/plain": [
       "GaussianNB(priors=None, var_smoothing=1e-09)"
      ]
     },
     "execution_count": 61,
     "metadata": {},
     "output_type": "execute_result"
    }
   ],
   "source": [
    "# Fitting training data set into classifier\n",
    "nb_model.fit(X_train, y_train)"
   ]
  },
  {
   "cell_type": "code",
   "execution_count": 62,
   "metadata": {
    "colab": {},
    "colab_type": "code",
    "id": "qlgBa-oesvUa"
   },
   "outputs": [],
   "source": [
    "# Predicting the model\n",
    "y_pred = nb_model.predict(X_test)"
   ]
  },
  {
   "cell_type": "code",
   "execution_count": 63,
   "metadata": {
    "colab": {},
    "colab_type": "code",
    "id": "Q93ilQYYsvUd"
   },
   "outputs": [],
   "source": [
    "# Creating confusion matrix\n",
    "bayes_cm = confusion_matrix(y_test,y_pred)"
   ]
  },
  {
   "cell_type": "code",
   "execution_count": 64,
   "metadata": {
    "colab": {},
    "colab_type": "code",
    "id": "UlK94UPQsvUh",
    "outputId": "a5a9f757-400f-45d1-9282-be2aa04e19da"
   },
   "outputs": [
    {
     "name": "stdout",
     "output_type": "stream",
     "text": [
      "[[35  3]\n",
      " [ 9 34]]\n",
      "accuracy:  0.8518518518518519\n",
      "precision:  0.7954545454545454\n",
      "recall:  0.9210526315789473\n",
      "f1_score:  0.8536585365853658\n"
     ]
    }
   ],
   "source": [
    "# Compare and test different score methods for Naive Bayes 70-30 Split\n",
    "nb_split_precision = metrics.precision_score(y_test,y_pred)\n",
    "nb_split_recall = metrics.recall_score(y_test,y_pred)\n",
    "nb_split_accuracy = metrics.accuracy_score(y_test, y_pred)\n",
    "nb_split_f1_score = metrics.f1_score(y_test,y_pred)\n",
    "nb_split_cm = confusion_matrix(y_test, y_pred)\n",
    "print(nb_split_cm)\n",
    "print(\"accuracy: \", nb_split_accuracy)\n",
    "print(\"precision: \", nb_split_precision)\n",
    "print(\"recall: \", nb_split_recall)\n",
    "print(\"f1_score: \", nb_split_f1_score)      "
   ]
  },
  {
   "cell_type": "code",
   "execution_count": 65,
   "metadata": {},
   "outputs": [],
   "source": [
    "# Instead of a 70-30 split, I wanted to investigate the effect of an 80-20 split \n",
    "X1_train, X1_test, y1_train, y1_test = train_test_split(X, y, test_size=0.20, random_state=10)\n",
    "nb_model1 = GaussianNB()\n",
    "nb_model1.fit(X1_train, y1_train)\n",
    "y1_pred = nb_model.predict(X1_test)\n",
    "bayes_cm1 = confusion_matrix(y1_test,y1_pred)"
   ]
  },
  {
   "cell_type": "code",
   "execution_count": 66,
   "metadata": {},
   "outputs": [
    {
     "name": "stdout",
     "output_type": "stream",
     "text": [
      "[[24  2]\n",
      " [ 4 24]]\n",
      "accuracy:  0.8888888888888888\n",
      "precision:  0.8571428571428571\n",
      "recall:  0.9230769230769231\n",
      "f1_score:  0.888888888888889\n"
     ]
    }
   ],
   "source": [
    "# Compare and test different score methods for Naive Bayes 80-20 Split\n",
    "nb_split_precision = metrics.precision_score(y1_test,y1_pred)\n",
    "nb_split_recall = metrics.recall_score(y1_test,y1_pred)\n",
    "nb_split_accuracy = metrics.accuracy_score(y1_test, y1_pred)\n",
    "nb_split_f1_score = metrics.f1_score(y1_test,y1_pred)\n",
    "nb_split_cm = confusion_matrix(y1_test, y1_pred)\n",
    "print(nb_split_cm)\n",
    "print(\"accuracy: \", nb_split_accuracy)\n",
    "print(\"precision: \", nb_split_precision)\n",
    "print(\"recall: \", nb_split_recall)\n",
    "print(\"f1_score: \", nb_split_f1_score)   "
   ]
  },
  {
   "cell_type": "code",
   "execution_count": 67,
   "metadata": {},
   "outputs": [
    {
     "name": "stdout",
     "output_type": "stream",
     "text": [
      "[[127  23]\n",
      " [ 26  94]]\n",
      "accuracy:  0.8185185185185185\n",
      "precision:  0.8431922188578534\n",
      "recall:  0.8466666666666667\n",
      "f1 score:  0.8393511441229494\n"
     ]
    }
   ],
   "source": [
    "## Naive Bayes with Cross Validation of 10-folds\n",
    "nbcv_model = GaussianNB()\n",
    "nbcv_predictions = cross_val_predict(nbcv_model, X, y, cv=10)\n",
    "print(confusion_matrix(y, nbcv_predictions))\n",
    "nbcv_scores_accuracy = cross_val_score(nb_model, X, y, scoring=\"accuracy\", cv=10)\n",
    "nbcv_scores_precision = cross_val_score(nb_model, X, y, scoring=\"precision\", cv=10)\n",
    "nbcv_scores_recall = cross_val_score(nb_model, X, y, scoring=\"recall\", cv=10)\n",
    "nbcv_scores_f1 = cross_val_score(nb_model, X, y, scoring=\"f1\", cv=10)\n",
    "print(\"accuracy: \", nbcv_scores_accuracy.mean())\n",
    "print(\"precision: \", nbcv_scores_precision.mean())\n",
    "print(\"recall: \", nbcv_scores_recall.mean())\n",
    "print(\"f1 score: \", nbcv_scores_f1.mean())"
   ]
  },
  {
   "cell_type": "markdown",
   "metadata": {},
   "source": [
    "<b>It seems like Naive Bayes with an 80-20 train-test split produced the best accuracy score compared to 70-30 split and cross validation."
   ]
  },
  {
   "cell_type": "markdown",
   "metadata": {},
   "source": [
    "## Step 5 - Evaluation <a id='S5'></a></br><a href='#C'><font size=2><i>(Back to Contents) ↑</i></font></a>"
   ]
  },
  {
   "cell_type": "markdown",
   "metadata": {},
   "source": [
    "### <u>Accuracy, Precision, Recall, F1 Score at A Glance</u>\n",
    "I created a dashboard (using Tableau) with the performance scores from the best models obtained.</br>\n",
    "- It seems like Naiive Bayes with an 80-20 split is the leading contender in terms of Accuracy (88.9%), Recall (92.3%) and F1 Score (88.9%).\n",
    "- Logistic Regression with a 5-fold cross validation performs best when it comes to Precision (86.4%)."
   ]
  },
  {
   "cell_type": "markdown",
   "metadata": {},
   "source": [
    "<img src=\"http://charlestay.com/7ModelsDB.jpg\">"
   ]
  },
  {
   "cell_type": "markdown",
   "metadata": {},
   "source": [
    "### <u>Confusion Matrices</u>"
   ]
  },
  {
   "cell_type": "code",
   "execution_count": 68,
   "metadata": {},
   "outputs": [
    {
     "data": {
      "image/png": "[encoded data removed]",
      "text/plain": [
       "<Figure size 1440x720 with 7 Axes>"
      ]
     },
     "metadata": {},
     "output_type": "display_data"
    }
   ],
   "source": [
    "# Generating Confusion Matrices for the Models that we have\n",
    "## Defining the different confusion matrices (some have been defined earlier on and thus missing in this list)\n",
    "lrcm = confusion_matrix(y, lr_predictions)\n",
    "svmcm = confusion_matrix(y, svc_predictions)\n",
    "nbcm = confusion_matrix(y1_test, y1_pred)\n",
    "knncm = confusion_matrix(y, knn_predictions)\n",
    "gbcm = confusion_matrix(y, gb_predictions)\n",
    "## Defining size of visualization\n",
    "plt.figure(figsize=(20,10))\n",
    "## Plotting with 2 rows and 4 columns, the last value refers to the order it appears in.\n",
    "plt.subplot(2,4,1)\n",
    "plt.title(\"Logistic Regression\")\n",
    "sns.heatmap(lrcm,annot=True,cmap=\"Blues\",fmt=\"d\",cbar=False,annot_kws={\"size\": 20}) ## annot_kws defines the font size of values.\n",
    "plt.subplot(2,4,2)\n",
    "plt.title(\"Support Vector Machine\")\n",
    "sns.heatmap(svmcm,annot=True,cmap=\"Greys\",fmt=\"d\",cbar=False,annot_kws={\"size\": 20})\n",
    "plt.subplot(2,4,3)\n",
    "plt.title(\"Naive Bayes\")\n",
    "sns.heatmap(nbcm,annot=True,cmap=\"Oranges\",fmt=\"d\",cbar=False,annot_kws={\"size\": 20})\n",
    "plt.subplot(2,4,4)\n",
    "plt.title(\"Random Forest\")\n",
    "sns.heatmap(rfcm,annot=True,cmap=\"Greens\",fmt=\"d\",cbar=False,annot_kws={\"size\": 20})\n",
    "plt.subplot(2,4,5)\n",
    "plt.title(\"Decision Tree\")\n",
    "sns.heatmap(dtcm,annot=True,cmap=\"Reds\",fmt=\"d\",cbar=False,annot_kws={\"size\": 20})\n",
    "plt.subplot(2,4,6)\n",
    "plt.title(\"KNN\")\n",
    "sns.heatmap(knncm,annot=True,cmap=\"Purples\",fmt=\"d\",cbar=False,annot_kws={\"size\": 20})\n",
    "plt.subplot(2,4,7)\n",
    "plt.title(\"Gradient Boosting\")\n",
    "sns.heatmap(gbcm,annot=True,cmap=\"Blues\",fmt=\"d\",cbar=False,annot_kws={\"size\": 20})\n",
    "plt.show()"
   ]
  }
 ],
 "metadata": {
  "kernelspec": {
   "display_name": "Python 3",
   "language": "python",
   "name": "python3"
  },
  "language_info": {
   "codemirror_mode": {
    "name": "ipython",
    "version": 3
   },
   "file_extension": ".py",
   "mimetype": "text/x-python",
   "name": "python",
   "nbconvert_exporter": "python",
   "pygments_lexer": "ipython3",
   "version": "3.7.3"
  }
 },
 "nbformat": 4,
 "nbformat_minor": 2
}
